{
 "cells": [
  {
   "cell_type": "code",
   "execution_count": 21,
   "metadata": {},
   "outputs": [
    {
     "ename": "ModuleNotFoundError",
     "evalue": "No module named 'pandas'",
     "output_type": "error",
     "traceback": [
      "\u001b[1;31m---------------------------------------------------------------------------\u001b[0m",
      "\u001b[1;31mModuleNotFoundError\u001b[0m                       Traceback (most recent call last)",
      "\u001b[1;32m<ipython-input-21-347a5ca92e02>\u001b[0m in \u001b[0;36m<module>\u001b[1;34m\u001b[0m\n\u001b[0;32m      1\u001b[0m \u001b[1;32mimport\u001b[0m \u001b[0mnumpy\u001b[0m \u001b[1;32mas\u001b[0m \u001b[0mnp\u001b[0m\u001b[1;33m\u001b[0m\u001b[1;33m\u001b[0m\u001b[0m\n\u001b[1;32m----> 2\u001b[1;33m \u001b[1;32mimport\u001b[0m \u001b[0mpandas\u001b[0m \u001b[1;32mas\u001b[0m \u001b[0mpd\u001b[0m\u001b[1;33m\u001b[0m\u001b[1;33m\u001b[0m\u001b[0m\n\u001b[0m\u001b[0;32m      3\u001b[0m \u001b[1;32mimport\u001b[0m \u001b[0mmatplotlib\u001b[0m\u001b[1;33m.\u001b[0m\u001b[0mpyplot\u001b[0m \u001b[1;32mas\u001b[0m \u001b[0mplt\u001b[0m\u001b[1;33m\u001b[0m\u001b[1;33m\u001b[0m\u001b[0m\n\u001b[0;32m      4\u001b[0m \u001b[1;32mimport\u001b[0m \u001b[0mos\u001b[0m\u001b[1;33m\u001b[0m\u001b[1;33m\u001b[0m\u001b[0m\n\u001b[0;32m      5\u001b[0m \u001b[1;32mimport\u001b[0m \u001b[0mcv2\u001b[0m\u001b[1;33m\u001b[0m\u001b[1;33m\u001b[0m\u001b[0m\n",
      "\u001b[1;31mModuleNotFoundError\u001b[0m: No module named 'pandas'"
     ]
    }
   ],
   "source": [
    "import numpy as np \n",
    "import pandas as pd \n",
    "import matplotlib.pyplot as plt \n",
    "import os\n",
    "import cv2\n",
    "\n",
    "%matplotlib inline"
   ]
  },
  {
   "cell_type": "code",
   "execution_count": 11,
   "metadata": {},
   "outputs": [
    {
     "ename": "NameError",
     "evalue": "name 'pd' is not defined",
     "output_type": "error",
     "traceback": [
      "\u001b[1;31m---------------------------------------------------------------------------\u001b[0m",
      "\u001b[1;31mNameError\u001b[0m                                 Traceback (most recent call last)",
      "\u001b[1;32m<ipython-input-11-5c6855172f0b>\u001b[0m in \u001b[0;36m<module>\u001b[1;34m\u001b[0m\n\u001b[1;32m----> 1\u001b[1;33m \u001b[0mtrain_x\u001b[0m \u001b[1;33m=\u001b[0m \u001b[0mpd\u001b[0m\u001b[1;33m.\u001b[0m\u001b[0mread_csv\u001b[0m\u001b[1;33m(\u001b[0m\u001b[1;34m'input/train_x.csv'\u001b[0m\u001b[1;33m,\u001b[0m \u001b[0mindex_col\u001b[0m\u001b[1;33m=\u001b[0m\u001b[1;36m0\u001b[0m\u001b[1;33m,\u001b[0m \u001b[0mheader\u001b[0m\u001b[1;33m=\u001b[0m\u001b[1;32mNone\u001b[0m\u001b[1;33m)\u001b[0m\u001b[1;33m\u001b[0m\u001b[1;33m\u001b[0m\u001b[0m\n\u001b[0m\u001b[0;32m      2\u001b[0m \u001b[0mtrain_y\u001b[0m \u001b[1;33m=\u001b[0m \u001b[0mpd\u001b[0m\u001b[1;33m.\u001b[0m\u001b[0mread_csv\u001b[0m\u001b[1;33m(\u001b[0m\u001b[1;34m'input/train_y.csv'\u001b[0m\u001b[1;33m,\u001b[0m \u001b[0mindex_col\u001b[0m\u001b[1;33m=\u001b[0m\u001b[1;36m0\u001b[0m\u001b[1;33m)\u001b[0m\u001b[1;33m\u001b[0m\u001b[1;33m\u001b[0m\u001b[0m\n\u001b[0;32m      3\u001b[0m \u001b[0mtest_x\u001b[0m \u001b[1;33m=\u001b[0m \u001b[0mpd\u001b[0m\u001b[1;33m.\u001b[0m\u001b[0mread_csv\u001b[0m\u001b[1;33m(\u001b[0m\u001b[1;34m'input/test_x.csv'\u001b[0m\u001b[1;33m,\u001b[0m \u001b[0mindex_col\u001b[0m\u001b[1;33m=\u001b[0m\u001b[1;36m0\u001b[0m\u001b[1;33m,\u001b[0m \u001b[0mheader\u001b[0m\u001b[1;33m=\u001b[0m\u001b[1;32mNone\u001b[0m\u001b[1;33m)\u001b[0m\u001b[1;33m\u001b[0m\u001b[1;33m\u001b[0m\u001b[0m\n",
      "\u001b[1;31mNameError\u001b[0m: name 'pd' is not defined"
     ]
    }
   ],
   "source": [
    "train_x = pd.read_csv('input/train_x.csv', index_col=0, header=None)\n",
    "train_y = pd.read_csv('input/train_y.csv', index_col=0)\n",
    "test_x = pd.read_csv('input/test_x.csv', index_col=0, header=None)"
   ]
  },
  {
   "cell_type": "code",
   "execution_count": 139,
   "metadata": {},
   "outputs": [
    {
     "data": {
      "text/plain": [
       "(4800, 3072)"
      ]
     },
     "execution_count": 139,
     "metadata": {},
     "output_type": "execute_result"
    }
   ],
   "source": [
    "test_x.shape"
   ]
  },
  {
   "cell_type": "code",
   "execution_count": 73,
   "metadata": {},
   "outputs": [],
   "source": [
    "import matplotlib\n",
    "matplotlib.use(\"Agg\")\n",
    " \n",
    "from keras.optimizers import Adam\n",
    "from keras.preprocessing.image import img_to_array\n",
    "# from sklearn.model_selection import train_test_split\n",
    "import matplotlib.pyplot as plt\n",
    "import numpy as np\n",
    "import argparse\n",
    "import random\n",
    "import pickle\n",
    "import cv2\n",
    "import os\n",
    "# from keras.utils import np_utils\n",
    "import gc \n",
    "\n",
    "import pandas as pd \n",
    "import matplotlib.pyplot as plt \n",
    "import os\n",
    "from keras.utils import np_utils\n",
    "import cv2\n",
    "\n",
    "%matplotlib inline"
   ]
  },
  {
   "cell_type": "code",
   "execution_count": 74,
   "metadata": {},
   "outputs": [],
   "source": [
    "EPOCHS = 100\n",
    "INIT_LR = 1e-3\n",
    "IMAGE_DIMS = (32 , 32 , 3)\n",
    "BATCH_SIZE = 520"
   ]
  },
  {
   "cell_type": "code",
   "execution_count": 75,
   "metadata": {},
   "outputs": [],
   "source": [
    "mappping_type = {'Bird': 0, 'Airplane': 1}\n",
    "train_y_bin = train_y.replace({\"target\": mappping_type})"
   ]
  },
  {
   "cell_type": "code",
   "execution_count": 82,
   "metadata": {},
   "outputs": [],
   "source": [
    "d1 = [[np.array(x)] for x in train_x.values]\n",
    "d = {'map': d1, 'target': train_y_bin.target}"
   ]
  },
  {
   "cell_type": "code",
   "execution_count": 127,
   "metadata": {},
   "outputs": [],
   "source": [
    "df = pd.DataFrame(data=d)"
   ]
  },
  {
   "cell_type": "code",
   "execution_count": 138,
   "metadata": {},
   "outputs": [
    {
     "data": {
      "text/plain": [
       "(7200,)"
      ]
     },
     "execution_count": 138,
     "metadata": {},
     "output_type": "execute_result"
    }
   ],
   "source": [
    "df.map.shape"
   ]
  },
  {
   "cell_type": "code",
   "execution_count": 134,
   "metadata": {},
   "outputs": [
    {
     "data": {
      "text/html": [
       "<div>\n",
       "<style scoped>\n",
       "    .dataframe tbody tr th:only-of-type {\n",
       "        vertical-align: middle;\n",
       "    }\n",
       "\n",
       "    .dataframe tbody tr th {\n",
       "        vertical-align: top;\n",
       "    }\n",
       "\n",
       "    .dataframe thead th {\n",
       "        text-align: right;\n",
       "    }\n",
       "</style>\n",
       "<table border=\"1\" class=\"dataframe\">\n",
       "  <thead>\n",
       "    <tr style=\"text-align: right;\">\n",
       "      <th></th>\n",
       "      <th>map</th>\n",
       "      <th>target</th>\n",
       "    </tr>\n",
       "  </thead>\n",
       "  <tbody>\n",
       "    <tr>\n",
       "      <th>0</th>\n",
       "      <td>[[4, 20, 18, 4, 16, 15, 2, 11, 9, 2, 6, 5, 1, ...</td>\n",
       "      <td>0</td>\n",
       "    </tr>\n",
       "    <tr>\n",
       "      <th>1</th>\n",
       "      <td>[[109, 155, 233, 109, 155, 231, 110, 156, 232,...</td>\n",
       "      <td>1</td>\n",
       "    </tr>\n",
       "    <tr>\n",
       "      <th>2</th>\n",
       "      <td>[[156, 172, 195, 158, 174, 197, 158, 174, 197,...</td>\n",
       "      <td>1</td>\n",
       "    </tr>\n",
       "    <tr>\n",
       "      <th>3</th>\n",
       "      <td>[[115, 108, 52, 97, 100, 79, 86, 107, 98, 79, ...</td>\n",
       "      <td>1</td>\n",
       "    </tr>\n",
       "    <tr>\n",
       "      <th>4</th>\n",
       "      <td>[[167, 205, 221, 160, 198, 213, 161, 198, 214,...</td>\n",
       "      <td>1</td>\n",
       "    </tr>\n",
       "  </tbody>\n",
       "</table>\n",
       "</div>"
      ],
      "text/plain": [
       "                                                 map  target\n",
       "0  [[4, 20, 18, 4, 16, 15, 2, 11, 9, 2, 6, 5, 1, ...       0\n",
       "1  [[109, 155, 233, 109, 155, 231, 110, 156, 232,...       1\n",
       "2  [[156, 172, 195, 158, 174, 197, 158, 174, 197,...       1\n",
       "3  [[115, 108, 52, 97, 100, 79, 86, 107, 98, 79, ...       1\n",
       "4  [[167, 205, 221, 160, 198, 213, 161, 198, 214,...       1"
      ]
     },
     "execution_count": 134,
     "metadata": {},
     "output_type": "execute_result"
    }
   ],
   "source": [
    "df.head()"
   ]
  },
  {
   "cell_type": "code",
   "execution_count": 85,
   "metadata": {},
   "outputs": [],
   "source": [
    "def make_image_gen_cat(in_df, batch_size=BATCH_SIZE):\n",
    "    all_batches = in_df.sample(frac=1)\n",
    "    out_map = []\n",
    "    out_class = []\n",
    "    while True:\n",
    "        for index, row in in_df.iterrows():\n",
    "#             out_map += [np.expand_dims(row.waferMap, -1)]\n",
    "#             out_map += [row.map]\n",
    "            out_map += [pd.Series(row).values[0][0]]\n",
    "#             print(pd.Series(row).values[0][0])\n",
    "            out_class += [row.target]\n",
    "            if len(out_map) >= batch_size:\n",
    "                out_map = np.array(out_map)\n",
    "                out_map = out_map.reshape(out_map.shape[0], IMAGE_DIMS[0], IMAGE_DIMS[1], IMAGE_DIMS[2])\n",
    "                yield np.stack(out_map, 0), np.array(np_utils.to_categorical(out_class, num_classes=2))\n",
    "                out_map = []\n",
    "                out_class = []"
   ]
  },
  {
   "cell_type": "code",
   "execution_count": 86,
   "metadata": {},
   "outputs": [
    {
     "data": {
      "text/plain": [
       "(5760, 1440)"
      ]
     },
     "execution_count": 86,
     "metadata": {},
     "output_type": "execute_result"
    }
   ],
   "source": [
    "from sklearn.model_selection import train_test_split\n",
    "\n",
    "train_df, valid_df = train_test_split(df, test_size=0.2)\n",
    "train_df.shape[0], valid_df.shape[0]"
   ]
  },
  {
   "cell_type": "code",
   "execution_count": 87,
   "metadata": {},
   "outputs": [
    {
     "name": "stdout",
     "output_type": "stream",
     "text": [
      "(520, 32, 32, 3) (520, 2)\n",
      "Wall time: 65.8 ms\n"
     ]
    }
   ],
   "source": [
    "%%time\n",
    "valid_x, valid_y = next(make_image_gen_cat(train_df))\n",
    "print(valid_x.shape, valid_y.shape)"
   ]
  },
  {
   "cell_type": "code",
   "execution_count": 88,
   "metadata": {},
   "outputs": [],
   "source": [
    "from keras.preprocessing.image import ImageDataGenerator\n",
    "\n",
    "dg_args = dict(featurewise_center = False, \n",
    "                  samplewise_center = False,\n",
    "                  rotation_range = 15,  \n",
    "                  horizontal_flip = True, \n",
    "                  vertical_flip = True)\n",
    "\n",
    "image_gen = ImageDataGenerator(**dg_args)\n",
    "label_gen = ImageDataGenerator()\n",
    "\n",
    "def create_aug_gen(in_gen, seed = None):\n",
    "    np.random.seed(seed if seed is not None else np.random.choice(range(9999)))\n",
    "    for in_x, in_y in in_gen:\n",
    "        # keep the seeds syncronized otherwise the augmentation \n",
    "        # to the images is different from the masks\n",
    "        g_x = image_gen.flow(in_x, \n",
    "                             batch_size = in_x.shape[0])\n",
    "\n",
    "        yield next(g_x), in_y"
   ]
  },
  {
   "cell_type": "code",
   "execution_count": 89,
   "metadata": {},
   "outputs": [
    {
     "name": "stdout",
     "output_type": "stream",
     "text": [
      "x (520, 32, 32, 3)\n",
      "y (520, 2)\n"
     ]
    },
    {
     "data": {
      "text/plain": [
       "804"
      ]
     },
     "execution_count": 89,
     "metadata": {},
     "output_type": "execute_result"
    }
   ],
   "source": [
    "train_gen = make_image_gen_cat(train_df)\n",
    "train_x, train_y = next(train_gen)\n",
    "print('x', train_x.shape)\n",
    "print('y', train_y.shape)\n",
    "cur_gen = create_aug_gen(train_gen)\n",
    "t_x, t_y = next(cur_gen)\n",
    "\n",
    "gc.collect()"
   ]
  },
  {
   "cell_type": "code",
   "execution_count": 90,
   "metadata": {},
   "outputs": [
    {
     "name": "stdout",
     "output_type": "stream",
     "text": [
      "[ 0.  1.]\n"
     ]
    },
    {
     "data": {
      "image/png": "[encoded data removed]",
      "text/plain": [
       "<Figure size 432x288 with 1 Axes>"
      ]
     },
     "metadata": {
      "needs_background": "light"
     },
     "output_type": "display_data"
    }
   ],
   "source": [
    "n = 16\n",
    "plt.imshow(valid_x[n,:,:])\n",
    "print(valid_y[n])"
   ]
  },
  {
   "cell_type": "code",
   "execution_count": null,
   "metadata": {},
   "outputs": [],
   "source": []
  },
  {
   "cell_type": "code",
   "execution_count": null,
   "metadata": {},
   "outputs": [],
   "source": []
  },
  {
   "cell_type": "code",
   "execution_count": 91,
   "metadata": {},
   "outputs": [],
   "source": [
    "from keras.models import Sequential\n",
    "from keras.layers.normalization import BatchNormalization\n",
    "from keras.layers.convolutional import Conv2D\n",
    "from keras.layers.convolutional import MaxPooling2D\n",
    "from keras.layers.core import Activation\n",
    "from keras.layers.core import Flatten\n",
    "from keras.layers.core import Dropout\n",
    "from keras.layers.core import Dense\n",
    "from keras import backend as K\n",
    "from keras.utils import np_utils"
   ]
  },
  {
   "cell_type": "code",
   "execution_count": 157,
   "metadata": {},
   "outputs": [],
   "source": [
    "class SmallerVGGNet:\n",
    "    @staticmethod\n",
    "    def build(width, height, depth, classes, finalAct=\"softmax\"):\n",
    "        # initialize the model along with the input shape to be\n",
    "        # \"channels last\" and the channels dimension itself\n",
    "        model = Sequential()\n",
    "        inputShape = (height, width, depth)\n",
    "        chanDim = -1\n",
    "\n",
    "        # if we are using \"channels first\", update the input shape\n",
    "        # and channels dimension\n",
    "        if K.image_data_format() == \"channels_first\":\n",
    "            inputShape = (depth, height, width)\n",
    "            chanDim = 1\n",
    "\n",
    "        # CONV => RELU => POOL\n",
    "        model.add(Conv2D(4, (3, 3), padding=\"same\", \n",
    "                         input_shape=(IMAGE_DIMS[0], IMAGE_DIMS[1], IMAGE_DIMS[2])))\n",
    "        model.add(Activation(\"relu\"))\n",
    "        model.add(BatchNormalization())\n",
    "        model.add(MaxPooling2D(pool_size=(2, 2)))\n",
    "#         model.add(Dropout(0.4))\n",
    "        \n",
    "        # (CONV => RELU) * 2 => POOL\n",
    "        model.add(Conv2D(16, (3, 3), padding=\"same\"))\n",
    "        model.add(Activation(\"relu\"))\n",
    "        model.add(BatchNormalization())\n",
    "        model.add(Conv2D(16, (3, 3), padding=\"same\"))\n",
    "        model.add(Activation(\"relu\"))\n",
    "        model.add(BatchNormalization())\n",
    "        model.add(MaxPooling2D(pool_size=(2, 2)))\n",
    "#         model.add(Dropout(0.4))\n",
    "        \n",
    "        # (CONV => RELU) * 2 => POOL\n",
    "        model.add(Conv2D(32, (3, 3), padding=\"same\"))\n",
    "        model.add(Activation(\"relu\"))\n",
    "        model.add(BatchNormalization())\n",
    "        model.add(Conv2D(32, (3, 3), padding=\"same\"))\n",
    "        model.add(Activation(\"relu\"))\n",
    "        model.add(BatchNormalization())\n",
    "        model.add(MaxPooling2D(pool_size=(2, 2)))\n",
    "#         model.add(Dropout(0.4))\n",
    "\n",
    "        # first (and only) set of FC => RELU layers\n",
    "        model.add(Flatten())\n",
    "        model.add(Dense(64))\n",
    "        model.add(Activation(\"relu\"))\n",
    "        model.add(BatchNormalization())\n",
    "#         model.add(Dropout(0.5))\n",
    "\n",
    "        # use a *softmax* activation for single-label classification\n",
    "        # and *sigmoid* activation for multi-label classification\n",
    "        model.add(Dense(classes))\n",
    "        model.add(Activation(finalAct))\n",
    "\n",
    "        # return the constructed network architecture\n",
    "        return model"
   ]
  },
  {
   "cell_type": "code",
   "execution_count": 158,
   "metadata": {},
   "outputs": [],
   "source": [
    "model = SmallerVGGNet.build(width=IMAGE_DIMS[1], height=IMAGE_DIMS[0],\n",
    "                            depth=IMAGE_DIMS[2], classes=2, \n",
    "                            finalAct=\"sigmoid\")\n",
    " \n",
    "# initialize the optimizer\n",
    "opt = Adam(lr=INIT_LR, decay=INIT_LR / EPOCHS)"
   ]
  },
  {
   "cell_type": "code",
   "execution_count": 159,
   "metadata": {
    "scrolled": true
   },
   "outputs": [
    {
     "name": "stdout",
     "output_type": "stream",
     "text": [
      "_________________________________________________________________\n",
      "Layer (type)                 Output Shape              Param #   \n",
      "=================================================================\n",
      "conv2d_32 (Conv2D)           (None, 32, 32, 4)         112       \n",
      "_________________________________________________________________\n",
      "activation_45 (Activation)   (None, 32, 32, 4)         0         \n",
      "_________________________________________________________________\n",
      "batch_normalization_39 (Batc (None, 32, 32, 4)         16        \n",
      "_________________________________________________________________\n",
      "max_pooling2d_19 (MaxPooling (None, 16, 16, 4)         0         \n",
      "_________________________________________________________________\n",
      "dropout_26 (Dropout)         (None, 16, 16, 4)         0         \n",
      "_________________________________________________________________\n",
      "conv2d_33 (Conv2D)           (None, 16, 16, 16)        592       \n",
      "_________________________________________________________________\n",
      "activation_46 (Activation)   (None, 16, 16, 16)        0         \n",
      "_________________________________________________________________\n",
      "batch_normalization_40 (Batc (None, 16, 16, 16)        64        \n",
      "_________________________________________________________________\n",
      "conv2d_34 (Conv2D)           (None, 16, 16, 16)        2320      \n",
      "_________________________________________________________________\n",
      "activation_47 (Activation)   (None, 16, 16, 16)        0         \n",
      "_________________________________________________________________\n",
      "batch_normalization_41 (Batc (None, 16, 16, 16)        64        \n",
      "_________________________________________________________________\n",
      "max_pooling2d_20 (MaxPooling (None, 8, 8, 16)          0         \n",
      "_________________________________________________________________\n",
      "dropout_27 (Dropout)         (None, 8, 8, 16)          0         \n",
      "_________________________________________________________________\n",
      "conv2d_35 (Conv2D)           (None, 8, 8, 32)          4640      \n",
      "_________________________________________________________________\n",
      "activation_48 (Activation)   (None, 8, 8, 32)          0         \n",
      "_________________________________________________________________\n",
      "batch_normalization_42 (Batc (None, 8, 8, 32)          128       \n",
      "_________________________________________________________________\n",
      "flatten_7 (Flatten)          (None, 2048)              0         \n",
      "_________________________________________________________________\n",
      "dense_14 (Dense)             (None, 64)                131136    \n",
      "_________________________________________________________________\n",
      "activation_49 (Activation)   (None, 64)                0         \n",
      "_________________________________________________________________\n",
      "batch_normalization_43 (Batc (None, 64)                256       \n",
      "_________________________________________________________________\n",
      "dropout_28 (Dropout)         (None, 64)                0         \n",
      "_________________________________________________________________\n",
      "dense_15 (Dense)             (None, 2)                 130       \n",
      "_________________________________________________________________\n",
      "activation_50 (Activation)   (None, 2)                 0         \n",
      "=================================================================\n",
      "Total params: 139,458\n",
      "Trainable params: 139,194\n",
      "Non-trainable params: 264\n",
      "_________________________________________________________________\n"
     ]
    }
   ],
   "source": [
    "model.summary()"
   ]
  },
  {
   "cell_type": "code",
   "execution_count": 160,
   "metadata": {},
   "outputs": [],
   "source": [
    "from keras.callbacks import Callback\n",
    "class TestCallback(Callback):\n",
    "    def __init__(self, test_data):\n",
    "        self.test_data = test_data\n",
    "        \n",
    "    def on_epoch_end(self, epoch, logs={}):\n",
    "        x, y = self.test_data\n",
    "        loss, dice_coef, acc, _ = self.model.evaluate(x, y, verbose=0)\n",
    "        print('\\n - Testing loss: {:.4f} - dice_coef: {:.4f} - acc: {:.4f}\\n'.format(loss, dice_coef, acc))"
   ]
  },
  {
   "cell_type": "code",
   "execution_count": 161,
   "metadata": {},
   "outputs": [
    {
     "data": {
      "text/plain": [
       "174"
      ]
     },
     "execution_count": 161,
     "metadata": {},
     "output_type": "execute_result"
    }
   ],
   "source": [
    "import keras.backend as K\n",
    "from keras.optimizers import Adam\n",
    "from keras.losses import binary_crossentropy\n",
    "from keras.callbacks import ModelCheckpoint, LearningRateScheduler, EarlyStopping, ReduceLROnPlateau\n",
    "\n",
    "weight_path=\"C:\\\\Users\\\\user\\\\Python_Code\\\\Kaggle\\\\Plane&Bird\\\\VGG16_easy_weights.h5\"\n",
    "\n",
    "checkpoint = ModelCheckpoint(weight_path, monitor='val_acc', verbose=1, \n",
    "                             save_best_only=True, mode='max', save_weights_only=True)\n",
    "\n",
    "reduceLROnPlat = ReduceLROnPlateau(monitor='val_acc', factor=0.33,\n",
    "                                   patience=3, verbose=1, mode='max',\n",
    "                                   min_delta=0.0001, cooldown=0, min_lr=1e-6)\n",
    "\n",
    "early = EarlyStopping(monitor=\"val_acc\", mode=\"max\", verbose=2, \n",
    "                      patience=3)\n",
    "\n",
    "\n",
    "\n",
    "callbacks_list = [checkpoint, reduceLROnPlat]\n",
    "\n",
    "gc.collect()"
   ]
  },
  {
   "cell_type": "code",
   "execution_count": 162,
   "metadata": {},
   "outputs": [],
   "source": [
    "from keras import metrics\n",
    "from keras import backend as K\n",
    "\n",
    "model.compile(optimizer=Adam(1e-3, decay=1e-6), \n",
    "              loss=\"categorical_crossentropy\",\n",
    "              metrics=[\"accuracy\", \n",
    "                      metrics.categorical_accuracy])\n",
    "\n",
    "def reset_weights(model):\n",
    "    session = K.get_session()\n",
    "    for layer in model.layers: \n",
    "        if hasattr(layer, 'kernel_initializer'):\n",
    "            layer.kernel.initializer.run(session=session)\n",
    "            \n",
    "reset_weights(model)"
   ]
  },
  {
   "cell_type": "code",
   "execution_count": 163,
   "metadata": {
    "scrolled": true
   },
   "outputs": [
    {
     "name": "stdout",
     "output_type": "stream",
     "text": [
      "Epoch 1/50\n",
      "100/100 [==============================] - 21s 210ms/step - loss: 0.4477 - acc: 0.8048 - categorical_accuracy: 0.8048 - val_loss: 0.4178 - val_acc: 0.8340 - val_categorical_accuracy: 0.8340\n",
      "\n",
      "Epoch 00001: val_acc improved from -inf to 0.83403, saving model to C:\\Users\\user\\Python_Code\\Kaggle\\Plane&Bird\\VGG16_easy_weights.h5\n",
      "Epoch 2/50\n",
      "100/100 [==============================] - 19s 189ms/step - loss: 0.3414 - acc: 0.8518 - categorical_accuracy: 0.8518 - val_loss: 0.3729 - val_acc: 0.8472 - val_categorical_accuracy: 0.8472\n",
      "\n",
      "Epoch 00002: val_acc improved from 0.83403 to 0.84717, saving model to C:\\Users\\user\\Python_Code\\Kaggle\\Plane&Bird\\VGG16_easy_weights.h5\n",
      "Epoch 3/50\n",
      "100/100 [==============================] - 20s 197ms/step - loss: 0.3017 - acc: 0.8708 - categorical_accuracy: 0.8708 - val_loss: 0.3863 - val_acc: 0.8416 - val_categorical_accuracy: 0.8416\n",
      "\n",
      "Epoch 00003: val_acc did not improve from 0.84717\n",
      "Epoch 4/50\n",
      "100/100 [==============================] - 20s 196ms/step - loss: 0.2736 - acc: 0.8842 - categorical_accuracy: 0.8842 - val_loss: 0.4252 - val_acc: 0.8409 - val_categorical_accuracy: 0.8409\n",
      "\n",
      "Epoch 00004: val_acc did not improve from 0.84717\n",
      "Epoch 5/50\n",
      "100/100 [==============================] - 20s 196ms/step - loss: 0.2541 - acc: 0.8929 - categorical_accuracy: 0.8929 - val_loss: 0.3241 - val_acc: 0.8737 - val_categorical_accuracy: 0.8737\n",
      "\n",
      "Epoch 00005: val_acc improved from 0.84717 to 0.87366, saving model to C:\\Users\\user\\Python_Code\\Kaggle\\Plane&Bird\\VGG16_easy_weights.h5\n",
      "Epoch 6/50\n",
      "100/100 [==============================] - 20s 195ms/step - loss: 0.2367 - acc: 0.9003 - categorical_accuracy: 0.9003 - val_loss: 0.3358 - val_acc: 0.8805 - val_categorical_accuracy: 0.8805\n",
      "\n",
      "Epoch 00006: val_acc improved from 0.87366 to 0.88046, saving model to C:\\Users\\user\\Python_Code\\Kaggle\\Plane&Bird\\VGG16_easy_weights.h5\n",
      "Epoch 7/50\n",
      "100/100 [==============================] - 20s 197ms/step - loss: 0.2199 - acc: 0.9076 - categorical_accuracy: 0.9076 - val_loss: 0.3277 - val_acc: 0.8764 - val_categorical_accuracy: 0.8764: 0.2206 - acc: 0.9075 - categori - ETA: 0s - loss: 0.2196 - acc: 0.9077 - categorical_accuracy: 0.\n",
      "\n",
      "Epoch 00007: val_acc did not improve from 0.88046\n",
      "Epoch 8/50\n",
      "100/100 [==============================] - 20s 197ms/step - loss: 0.2048 - acc: 0.9144 - categorical_accuracy: 0.9144 - val_loss: 0.3468 - val_acc: 0.8812 - val_categorical_accuracy: 0.8812loss: 0.2066 - acc: 0.9142 - categorical_accuracy - ETA: 1s - loss: 0.2064 - acc: 0.9140 - categorical_accura - ETA: 0s - loss: 0.2063 - acc: 0.9137 - categori\n",
      "\n",
      "Epoch 00008: val_acc improved from 0.88046 to 0.88123, saving model to C:\\Users\\user\\Python_Code\\Kaggle\\Plane&Bird\\VGG16_easy_weights.h5\n",
      "Epoch 9/50\n",
      "100/100 [==============================] - 19s 192ms/step - loss: 0.1932 - acc: 0.9203 - categorical_accuracy: 0.9203 - val_loss: 0.3537 - val_acc: 0.8799 - val_categorical_accuracy: 0.8799\n",
      "\n",
      "Epoch 00009: val_acc did not improve from 0.88123\n",
      "Epoch 10/50\n",
      "100/100 [==============================] - 19s 194ms/step - loss: 0.1813 - acc: 0.9243 - categorical_accuracy: 0.9243 - val_loss: 0.3985 - val_acc: 0.8667 - val_categorical_accuracy: 0.86670.9233 - categorical_ac - ETA: 2s - los - ETA: 0s - loss: 0.1820 - acc: 0.9238 - \n",
      "\n",
      "Epoch 00010: val_acc did not improve from 0.88123\n",
      "Epoch 11/50\n",
      "100/100 [==============================] - 20s 200ms/step - loss: 0.1702 - acc: 0.9292 - categorical_accuracy: 0.9292 - val_loss: 0.3887 - val_acc: 0.8750 - val_categorical_accuracy: 0.8750 categorical_accuracy: 0. - ETA: 0s - loss: 0.1705 - acc: 0.9291 - categorical_ac - ETA: 0s - loss: 0.1701 - acc: 0.9293 - categorical_accuracy: 0.92\n",
      "\n",
      "Epoch 00011: val_acc did not improve from 0.88123\n",
      "\n",
      "Epoch 00011: ReduceLROnPlateau reducing learning rate to 0.00033000001567415896.\n",
      "Epoch 12/50\n",
      "100/100 [==============================] - 19s 192ms/step - loss: 0.1555 - acc: 0.9369 - categorical_accuracy: 0.9369 - val_loss: 0.3568 - val_acc: 0.8792 - val_categorical_accuracy: 0.8792\n",
      "\n",
      "Epoch 00012: val_acc did not improve from 0.88123\n",
      "Epoch 13/50\n",
      "100/100 [==============================] - 20s 202ms/step - loss: 0.1495 - acc: 0.9388 - categorical_accuracy: 0.9388 - val_loss: 0.3576 - val_acc: 0.8771 - val_categorical_accuracy: 0.8771A: 0s - loss: 0.1495 - acc: 0.9388 - categorical_accuracy: \n",
      "\n",
      "Epoch 00013: val_acc did not improve from 0.88123\n",
      "Epoch 14/50\n",
      "100/100 [==============================] - 20s 196ms/step - loss: 0.1456 - acc: 0.9408 - categorical_accuracy: 0.9408 - val_loss: 0.3701 - val_acc: 0.8799 - val_categorical_accuracy: 0.8799\n",
      "\n",
      "Epoch 00014: val_acc did not improve from 0.88123\n",
      "\n",
      "Epoch 00014: ReduceLROnPlateau reducing learning rate to 0.00010890000325161964.\n",
      "Epoch 15/50\n",
      "100/100 [==============================] - 20s 197ms/step - loss: 0.1384 - acc: 0.9432 - categorical_accuracy: 0.9432 - val_loss: 0.3735 - val_acc: 0.8784 - val_categorical_accuracy: 0.8784\n",
      "\n",
      "Epoch 00015: val_acc did not improve from 0.88123\n",
      "Epoch 16/50\n",
      "100/100 [==============================] - 20s 197ms/step - loss: 0.1383 - acc: 0.9430 - categorical_accuracy: 0.9430 - val_loss: 0.3940 - val_acc: 0.8723 - val_categorical_accuracy: 0.8723\n",
      "\n",
      "Epoch 00016: val_acc did not improve from 0.88123\n",
      "Epoch 17/50\n",
      "100/100 [==============================] - 20s 196ms/step - loss: 0.1319 - acc: 0.9462 - categorical_accuracy: 0.9462 - val_loss: 0.3770 - val_acc: 0.8785 - val_categorical_accuracy: 0.8785\n",
      "\n",
      "Epoch 00017: val_acc did not improve from 0.88123\n",
      "\n",
      "Epoch 00017: ReduceLROnPlateau reducing learning rate to 3.5936999920522795e-05.\n",
      "Epoch 18/50\n",
      "100/100 [==============================] - 20s 201ms/step - loss: 0.1334 - acc: 0.9456 - categorical_accuracy: 0.9456 - val_loss: 0.3768 - val_acc: 0.8819 - val_categorical_accuracy: 0.8819\n",
      "\n",
      "Epoch 00018: val_acc improved from 0.88123 to 0.88193, saving model to C:\\Users\\user\\Python_Code\\Kaggle\\Plane&Bird\\VGG16_easy_weights.h5\n",
      "Epoch 19/50\n",
      "100/100 [==============================] - 19s 195ms/step - loss: 0.1321 - acc: 0.9458 - categorical_accuracy: 0.9458 - val_loss: 0.3865 - val_acc: 0.8764 - val_categorical_accuracy: 0.8764\n",
      "\n",
      "Epoch 00019: val_acc did not improve from 0.88193\n",
      "Epoch 20/50\n",
      "100/100 [==============================] - 19s 194ms/step - loss: 0.1300 - acc: 0.9475 - categorical_accuracy: 0.9475 - val_loss: 0.3858 - val_acc: 0.8778 - val_categorical_accuracy: 0.877886 - ca - ETA: 4s - loss: 0.1283 - acc: 0.948 - ETA:  - ETA: 1s - loss: 0.1288 - acc: 0.9479 - categorical_accuracy: 0. - ETA: 1s - loss: 0.1290 - acc: 0.9480 - ca - ETA: 0s - loss: 0.1293 - acc: 0.9478 - categorical_accura\n",
      "\n",
      "Epoch 00020: val_acc did not improve from 0.88193\n",
      "Epoch 21/50\n",
      "100/100 [==============================] - 20s 196ms/step - loss: 0.1289 - acc: 0.9482 - categorical_accuracy: 0.9482 - val_loss: 0.3892 - val_acc: 0.8723 - val_categorical_accuracy: 0.87231292 - ac\n",
      "\n",
      "Epoch 00021: val_acc did not improve from 0.88193\n",
      "\n",
      "Epoch 00021: ReduceLROnPlateau reducing learning rate to 1.185920958960196e-05.\n",
      "Epoch 22/50\n",
      "100/100 [==============================] - 19s 194ms/step - loss: 0.1301 - acc: 0.9473 - categorical_accuracy: 0.9473 - val_loss: 0.3832 - val_acc: 0.8777 - val_categorical_accuracy: 0.8777\n",
      "\n",
      "Epoch 00022: val_acc did not improve from 0.88193\n",
      "Epoch 23/50\n",
      "100/100 [==============================] - 19s 193ms/step - loss: 0.1304 - acc: 0.9473 - categorical_accuracy: 0.9473 - val_loss: 0.3817 - val_acc: 0.8785 - val_categorical_accuracy: 0.878567 - cate - E\n",
      "\n",
      "Epoch 00023: val_acc did not improve from 0.88193\n",
      "Epoch 24/50\n",
      "100/100 [==============================] - 19s 194ms/step - loss: 0.1298 - acc: 0.9472 - categorical_accuracy: 0.9472 - val_loss: 0.3862 - val_acc: 0.8777 - val_categorical_accuracy: 0.8777ategorical_accuracy: 0. - ETA: 4s - loss: 0.1284 - acc: 0.9489 - categorical_accura - ETA: 4s - loss: 0.1284 - acc: 0.9483 - categorical_accuracy: 0.94 - ETA: 4s - loss: 0.1283 - acc: 0.9482 - categori - ETA: 3s - loss: 0.1274 - acc: 0.9488 - categorical_accuracy:  - ETA: 3s - loss: 0.1282 - acc: 0.9481 - categorical_accu - ETA: 2s - loss: 0.1284 - acc: 0.9478 - categorical_accuracy: 0.94 - ETA: 2s - loss: 0.1283 - acc: 0.9479 - categorical_accuracy: 0. - ETA: 2s - loss: 0.1286 - acc: 0.9477 - categorical_accuracy - ETA: 0s - loss: 0.1297 - acc: 0.9472 - categorical_accuracy: 0.\n",
      "\n",
      "Epoch 00024: val_acc did not improve from 0.88193\n",
      "\n",
      "Epoch 00024: ReduceLROnPlateau reducing learning rate to 3.913539212589967e-06.\n",
      "Epoch 25/50\n",
      "100/100 [==============================] - 19s 194ms/step - loss: 0.1303 - acc: 0.9478 - categorical_accuracy: 0.9478 - val_loss: 0.3847 - val_acc: 0.8771 - val_categorical_accuracy: 0.8771\n",
      "\n",
      "Epoch 00025: val_acc did not improve from 0.88193\n",
      "Epoch 26/50\n",
      "100/100 [==============================] - 19s 194ms/step - loss: 0.1282 - acc: 0.9478 - categorical_accuracy: 0.9478 - val_loss: 0.3851 - val_acc: 0.8785 - val_categorical_accuracy: 0.87851303 - acc: - ETA: 2s - loss: 0.1291 - acc: 0.9478 - categorical_accuracy: 0.94 - ETA: 2s - loss: 0.1292 - acc: 0.9476 - categorical_accu - ETA: 2s\n",
      "\n",
      "Epoch 00026: val_acc did not improve from 0.88193\n",
      "Epoch 27/50\n",
      "100/100 [==============================] - 19s 194ms/step - loss: 0.1279 - acc: 0.9482 - categorical_accuracy: 0.9482 - val_loss: 0.3834 - val_acc: 0.8778 - val_categorical_accuracy: 0.8778\n",
      "\n",
      "Epoch 00027: val_acc did not improve from 0.88193\n",
      "\n",
      "Epoch 00027: ReduceLROnPlateau reducing learning rate to 1.2914679791720119e-06.\n",
      "Epoch 28/50\n",
      "100/100 [==============================] - 20s 198ms/step - loss: 0.1289 - acc: 0.9482 - categorical_accuracy: 0.9482 - val_loss: 0.3836 - val_acc: 0.8771 - val_categorical_accuracy: 0.8771 - acc: 0.9478 - categorical_accuracy: 0.94 - ETA: 1s - loss: 0.1290 - acc: 0.9\n",
      "\n",
      "Epoch 00028: val_acc did not improve from 0.88193\n",
      "Epoch 29/50\n",
      "100/100 [==============================] - 19s 195ms/step - loss: 0.1273 - acc: 0.9482 - categorical_accuracy: 0.9482 - val_loss: 0.3841 - val_acc: 0.8771 - val_categorical_accuracy: 0.8771 - ac - ETA: 5s - loss: 0.1277  - ETA: 3s - loss: 0.1272  - ETA: 1s - loss: 0.1274 - acc: 0.9482 - categorical_accuracy: 0.94 - ETA: 1s - loss: 0.1\n",
      "\n",
      "Epoch 00029: val_acc did not improve from 0.88193\n",
      "Epoch 30/50\n",
      " 99/100 [============================>.] - ETA: 0s - loss: 0.1267 - acc: 0.9492 - categorical_accuracy: 0.9492 ETA: 2s - loss: 0.1262 - acc: - ETA: 0s - loss: 0.1267 - acc: 0.9493 - catego"
     ]
    },
    {
     "ename": "KeyboardInterrupt",
     "evalue": "",
     "output_type": "error",
     "traceback": [
      "\u001b[1;31m---------------------------------------------------------------------------\u001b[0m",
      "\u001b[1;31mKeyboardInterrupt\u001b[0m                         Traceback (most recent call last)",
      "\u001b[1;32m<ipython-input-163-c65bbabc469d>\u001b[0m in \u001b[0;36m<module>\u001b[1;34m\u001b[0m\n\u001b[0;32m     13\u001b[0m                           \u001b[0mcallbacks\u001b[0m \u001b[1;33m=\u001b[0m \u001b[0mcallbacks_list\u001b[0m\u001b[1;33m,\u001b[0m\u001b[1;33m\u001b[0m\u001b[0m\n\u001b[0;32m     14\u001b[0m                           \u001b[0mworkers\u001b[0m\u001b[1;33m=\u001b[0m\u001b[1;36m1\u001b[0m\u001b[1;33m,\u001b[0m\u001b[1;33m\u001b[0m\u001b[0m\n\u001b[1;32m---> 15\u001b[1;33m                           verbose = 1)\n\u001b[0m",
      "\u001b[1;32m~\\Anaconda3\\envs\\neuralnets\\lib\\site-packages\\keras\\legacy\\interfaces.py\u001b[0m in \u001b[0;36mwrapper\u001b[1;34m(*args, **kwargs)\u001b[0m\n\u001b[0;32m     89\u001b[0m                 warnings.warn('Update your `' + object_name + '` call to the ' +\n\u001b[0;32m     90\u001b[0m                               'Keras 2 API: ' + signature, stacklevel=2)\n\u001b[1;32m---> 91\u001b[1;33m             \u001b[1;32mreturn\u001b[0m \u001b[0mfunc\u001b[0m\u001b[1;33m(\u001b[0m\u001b[1;33m*\u001b[0m\u001b[0margs\u001b[0m\u001b[1;33m,\u001b[0m \u001b[1;33m**\u001b[0m\u001b[0mkwargs\u001b[0m\u001b[1;33m)\u001b[0m\u001b[1;33m\u001b[0m\u001b[0m\n\u001b[0m\u001b[0;32m     92\u001b[0m         \u001b[0mwrapper\u001b[0m\u001b[1;33m.\u001b[0m\u001b[0m_original_function\u001b[0m \u001b[1;33m=\u001b[0m \u001b[0mfunc\u001b[0m\u001b[1;33m\u001b[0m\u001b[0m\n\u001b[0;32m     93\u001b[0m         \u001b[1;32mreturn\u001b[0m \u001b[0mwrapper\u001b[0m\u001b[1;33m\u001b[0m\u001b[0m\n",
      "\u001b[1;32m~\\Anaconda3\\envs\\neuralnets\\lib\\site-packages\\keras\\engine\\training.py\u001b[0m in \u001b[0;36mfit_generator\u001b[1;34m(self, generator, steps_per_epoch, epochs, verbose, callbacks, validation_data, validation_steps, class_weight, max_queue_size, workers, use_multiprocessing, shuffle, initial_epoch)\u001b[0m\n\u001b[0;32m   1416\u001b[0m             \u001b[0muse_multiprocessing\u001b[0m\u001b[1;33m=\u001b[0m\u001b[0muse_multiprocessing\u001b[0m\u001b[1;33m,\u001b[0m\u001b[1;33m\u001b[0m\u001b[0m\n\u001b[0;32m   1417\u001b[0m             \u001b[0mshuffle\u001b[0m\u001b[1;33m=\u001b[0m\u001b[0mshuffle\u001b[0m\u001b[1;33m,\u001b[0m\u001b[1;33m\u001b[0m\u001b[0m\n\u001b[1;32m-> 1418\u001b[1;33m             initial_epoch=initial_epoch)\n\u001b[0m\u001b[0;32m   1419\u001b[0m \u001b[1;33m\u001b[0m\u001b[0m\n\u001b[0;32m   1420\u001b[0m     \u001b[1;33m@\u001b[0m\u001b[0minterfaces\u001b[0m\u001b[1;33m.\u001b[0m\u001b[0mlegacy_generator_methods_support\u001b[0m\u001b[1;33m\u001b[0m\u001b[0m\n",
      "\u001b[1;32m~\\Anaconda3\\envs\\neuralnets\\lib\\site-packages\\keras\\engine\\training_generator.py\u001b[0m in \u001b[0;36mfit_generator\u001b[1;34m(model, generator, steps_per_epoch, epochs, verbose, callbacks, validation_data, validation_steps, class_weight, max_queue_size, workers, use_multiprocessing, shuffle, initial_epoch)\u001b[0m\n\u001b[0;32m    232\u001b[0m                             \u001b[0mval_enqueuer_gen\u001b[0m\u001b[1;33m,\u001b[0m\u001b[1;33m\u001b[0m\u001b[0m\n\u001b[0;32m    233\u001b[0m                             \u001b[0mvalidation_steps\u001b[0m\u001b[1;33m,\u001b[0m\u001b[1;33m\u001b[0m\u001b[0m\n\u001b[1;32m--> 234\u001b[1;33m                             workers=0)\n\u001b[0m\u001b[0;32m    235\u001b[0m                     \u001b[1;32melse\u001b[0m\u001b[1;33m:\u001b[0m\u001b[1;33m\u001b[0m\u001b[0m\n\u001b[0;32m    236\u001b[0m                         \u001b[1;31m# No need for try/except because\u001b[0m\u001b[1;33m\u001b[0m\u001b[1;33m\u001b[0m\u001b[0m\n",
      "\u001b[1;32m~\\Anaconda3\\envs\\neuralnets\\lib\\site-packages\\keras\\legacy\\interfaces.py\u001b[0m in \u001b[0;36mwrapper\u001b[1;34m(*args, **kwargs)\u001b[0m\n\u001b[0;32m     89\u001b[0m                 warnings.warn('Update your `' + object_name + '` call to the ' +\n\u001b[0;32m     90\u001b[0m                               'Keras 2 API: ' + signature, stacklevel=2)\n\u001b[1;32m---> 91\u001b[1;33m             \u001b[1;32mreturn\u001b[0m \u001b[0mfunc\u001b[0m\u001b[1;33m(\u001b[0m\u001b[1;33m*\u001b[0m\u001b[0margs\u001b[0m\u001b[1;33m,\u001b[0m \u001b[1;33m**\u001b[0m\u001b[0mkwargs\u001b[0m\u001b[1;33m)\u001b[0m\u001b[1;33m\u001b[0m\u001b[0m\n\u001b[0m\u001b[0;32m     92\u001b[0m         \u001b[0mwrapper\u001b[0m\u001b[1;33m.\u001b[0m\u001b[0m_original_function\u001b[0m \u001b[1;33m=\u001b[0m \u001b[0mfunc\u001b[0m\u001b[1;33m\u001b[0m\u001b[0m\n\u001b[0;32m     93\u001b[0m         \u001b[1;32mreturn\u001b[0m \u001b[0mwrapper\u001b[0m\u001b[1;33m\u001b[0m\u001b[0m\n",
      "\u001b[1;32m~\\Anaconda3\\envs\\neuralnets\\lib\\site-packages\\keras\\engine\\training.py\u001b[0m in \u001b[0;36mevaluate_generator\u001b[1;34m(self, generator, steps, max_queue_size, workers, use_multiprocessing, verbose)\u001b[0m\n\u001b[0;32m   1470\u001b[0m             \u001b[0mworkers\u001b[0m\u001b[1;33m=\u001b[0m\u001b[0mworkers\u001b[0m\u001b[1;33m,\u001b[0m\u001b[1;33m\u001b[0m\u001b[0m\n\u001b[0;32m   1471\u001b[0m             \u001b[0muse_multiprocessing\u001b[0m\u001b[1;33m=\u001b[0m\u001b[0muse_multiprocessing\u001b[0m\u001b[1;33m,\u001b[0m\u001b[1;33m\u001b[0m\u001b[0m\n\u001b[1;32m-> 1472\u001b[1;33m             verbose=verbose)\n\u001b[0m\u001b[0;32m   1473\u001b[0m \u001b[1;33m\u001b[0m\u001b[0m\n\u001b[0;32m   1474\u001b[0m     \u001b[1;33m@\u001b[0m\u001b[0minterfaces\u001b[0m\u001b[1;33m.\u001b[0m\u001b[0mlegacy_generator_methods_support\u001b[0m\u001b[1;33m\u001b[0m\u001b[0m\n",
      "\u001b[1;32m~\\Anaconda3\\envs\\neuralnets\\lib\\site-packages\\keras\\engine\\training_generator.py\u001b[0m in \u001b[0;36mevaluate_generator\u001b[1;34m(model, generator, steps, max_queue_size, workers, use_multiprocessing, verbose)\u001b[0m\n\u001b[0;32m    328\u001b[0m \u001b[1;33m\u001b[0m\u001b[0m\n\u001b[0;32m    329\u001b[0m         \u001b[1;32mwhile\u001b[0m \u001b[0msteps_done\u001b[0m \u001b[1;33m<\u001b[0m \u001b[0msteps\u001b[0m\u001b[1;33m:\u001b[0m\u001b[1;33m\u001b[0m\u001b[0m\n\u001b[1;32m--> 330\u001b[1;33m             \u001b[0mgenerator_output\u001b[0m \u001b[1;33m=\u001b[0m \u001b[0mnext\u001b[0m\u001b[1;33m(\u001b[0m\u001b[0moutput_generator\u001b[0m\u001b[1;33m)\u001b[0m\u001b[1;33m\u001b[0m\u001b[0m\n\u001b[0m\u001b[0;32m    331\u001b[0m             \u001b[1;32mif\u001b[0m \u001b[1;32mnot\u001b[0m \u001b[0mhasattr\u001b[0m\u001b[1;33m(\u001b[0m\u001b[0mgenerator_output\u001b[0m\u001b[1;33m,\u001b[0m \u001b[1;34m'__len__'\u001b[0m\u001b[1;33m)\u001b[0m\u001b[1;33m:\u001b[0m\u001b[1;33m\u001b[0m\u001b[0m\n\u001b[0;32m    332\u001b[0m                 raise ValueError('Output of generator should be a tuple '\n",
      "\u001b[1;32m~\\Anaconda3\\envs\\neuralnets\\lib\\site-packages\\keras\\utils\\data_utils.py\u001b[0m in \u001b[0;36mget\u001b[1;34m(self)\u001b[0m\n\u001b[0;32m    683\u001b[0m         \u001b[1;32mtry\u001b[0m\u001b[1;33m:\u001b[0m\u001b[1;33m\u001b[0m\u001b[0m\n\u001b[0;32m    684\u001b[0m             \u001b[1;32mwhile\u001b[0m \u001b[0mself\u001b[0m\u001b[1;33m.\u001b[0m\u001b[0mis_running\u001b[0m\u001b[1;33m(\u001b[0m\u001b[1;33m)\u001b[0m\u001b[1;33m:\u001b[0m\u001b[1;33m\u001b[0m\u001b[0m\n\u001b[1;32m--> 685\u001b[1;33m                 \u001b[0minputs\u001b[0m \u001b[1;33m=\u001b[0m \u001b[0mself\u001b[0m\u001b[1;33m.\u001b[0m\u001b[0mqueue\u001b[0m\u001b[1;33m.\u001b[0m\u001b[0mget\u001b[0m\u001b[1;33m(\u001b[0m\u001b[0mblock\u001b[0m\u001b[1;33m=\u001b[0m\u001b[1;32mTrue\u001b[0m\u001b[1;33m)\u001b[0m\u001b[1;33m.\u001b[0m\u001b[0mget\u001b[0m\u001b[1;33m(\u001b[0m\u001b[1;33m)\u001b[0m\u001b[1;33m\u001b[0m\u001b[0m\n\u001b[0m\u001b[0;32m    686\u001b[0m                 \u001b[0mself\u001b[0m\u001b[1;33m.\u001b[0m\u001b[0mqueue\u001b[0m\u001b[1;33m.\u001b[0m\u001b[0mtask_done\u001b[0m\u001b[1;33m(\u001b[0m\u001b[1;33m)\u001b[0m\u001b[1;33m\u001b[0m\u001b[0m\n\u001b[0;32m    687\u001b[0m                 \u001b[1;32mif\u001b[0m \u001b[0minputs\u001b[0m \u001b[1;32mis\u001b[0m \u001b[1;32mnot\u001b[0m \u001b[1;32mNone\u001b[0m\u001b[1;33m:\u001b[0m\u001b[1;33m\u001b[0m\u001b[0m\n",
      "\u001b[1;32m~\\Anaconda3\\envs\\neuralnets\\lib\\multiprocessing\\pool.py\u001b[0m in \u001b[0;36mget\u001b[1;34m(self, timeout)\u001b[0m\n\u001b[0;32m    636\u001b[0m \u001b[1;33m\u001b[0m\u001b[0m\n\u001b[0;32m    637\u001b[0m     \u001b[1;32mdef\u001b[0m \u001b[0mget\u001b[0m\u001b[1;33m(\u001b[0m\u001b[0mself\u001b[0m\u001b[1;33m,\u001b[0m \u001b[0mtimeout\u001b[0m\u001b[1;33m=\u001b[0m\u001b[1;32mNone\u001b[0m\u001b[1;33m)\u001b[0m\u001b[1;33m:\u001b[0m\u001b[1;33m\u001b[0m\u001b[0m\n\u001b[1;32m--> 638\u001b[1;33m         \u001b[0mself\u001b[0m\u001b[1;33m.\u001b[0m\u001b[0mwait\u001b[0m\u001b[1;33m(\u001b[0m\u001b[0mtimeout\u001b[0m\u001b[1;33m)\u001b[0m\u001b[1;33m\u001b[0m\u001b[0m\n\u001b[0m\u001b[0;32m    639\u001b[0m         \u001b[1;32mif\u001b[0m \u001b[1;32mnot\u001b[0m \u001b[0mself\u001b[0m\u001b[1;33m.\u001b[0m\u001b[0mready\u001b[0m\u001b[1;33m(\u001b[0m\u001b[1;33m)\u001b[0m\u001b[1;33m:\u001b[0m\u001b[1;33m\u001b[0m\u001b[0m\n\u001b[0;32m    640\u001b[0m             \u001b[1;32mraise\u001b[0m \u001b[0mTimeoutError\u001b[0m\u001b[1;33m\u001b[0m\u001b[0m\n",
      "\u001b[1;32m~\\Anaconda3\\envs\\neuralnets\\lib\\multiprocessing\\pool.py\u001b[0m in \u001b[0;36mwait\u001b[1;34m(self, timeout)\u001b[0m\n\u001b[0;32m    633\u001b[0m \u001b[1;33m\u001b[0m\u001b[0m\n\u001b[0;32m    634\u001b[0m     \u001b[1;32mdef\u001b[0m \u001b[0mwait\u001b[0m\u001b[1;33m(\u001b[0m\u001b[0mself\u001b[0m\u001b[1;33m,\u001b[0m \u001b[0mtimeout\u001b[0m\u001b[1;33m=\u001b[0m\u001b[1;32mNone\u001b[0m\u001b[1;33m)\u001b[0m\u001b[1;33m:\u001b[0m\u001b[1;33m\u001b[0m\u001b[0m\n\u001b[1;32m--> 635\u001b[1;33m         \u001b[0mself\u001b[0m\u001b[1;33m.\u001b[0m\u001b[0m_event\u001b[0m\u001b[1;33m.\u001b[0m\u001b[0mwait\u001b[0m\u001b[1;33m(\u001b[0m\u001b[0mtimeout\u001b[0m\u001b[1;33m)\u001b[0m\u001b[1;33m\u001b[0m\u001b[0m\n\u001b[0m\u001b[0;32m    636\u001b[0m \u001b[1;33m\u001b[0m\u001b[0m\n\u001b[0;32m    637\u001b[0m     \u001b[1;32mdef\u001b[0m \u001b[0mget\u001b[0m\u001b[1;33m(\u001b[0m\u001b[0mself\u001b[0m\u001b[1;33m,\u001b[0m \u001b[0mtimeout\u001b[0m\u001b[1;33m=\u001b[0m\u001b[1;32mNone\u001b[0m\u001b[1;33m)\u001b[0m\u001b[1;33m:\u001b[0m\u001b[1;33m\u001b[0m\u001b[0m\n",
      "\u001b[1;32m~\\Anaconda3\\envs\\neuralnets\\lib\\threading.py\u001b[0m in \u001b[0;36mwait\u001b[1;34m(self, timeout)\u001b[0m\n\u001b[0;32m    549\u001b[0m             \u001b[0msignaled\u001b[0m \u001b[1;33m=\u001b[0m \u001b[0mself\u001b[0m\u001b[1;33m.\u001b[0m\u001b[0m_flag\u001b[0m\u001b[1;33m\u001b[0m\u001b[0m\n\u001b[0;32m    550\u001b[0m             \u001b[1;32mif\u001b[0m \u001b[1;32mnot\u001b[0m \u001b[0msignaled\u001b[0m\u001b[1;33m:\u001b[0m\u001b[1;33m\u001b[0m\u001b[0m\n\u001b[1;32m--> 551\u001b[1;33m                 \u001b[0msignaled\u001b[0m \u001b[1;33m=\u001b[0m \u001b[0mself\u001b[0m\u001b[1;33m.\u001b[0m\u001b[0m_cond\u001b[0m\u001b[1;33m.\u001b[0m\u001b[0mwait\u001b[0m\u001b[1;33m(\u001b[0m\u001b[0mtimeout\u001b[0m\u001b[1;33m)\u001b[0m\u001b[1;33m\u001b[0m\u001b[0m\n\u001b[0m\u001b[0;32m    552\u001b[0m             \u001b[1;32mreturn\u001b[0m \u001b[0msignaled\u001b[0m\u001b[1;33m\u001b[0m\u001b[0m\n\u001b[0;32m    553\u001b[0m \u001b[1;33m\u001b[0m\u001b[0m\n",
      "\u001b[1;32m~\\Anaconda3\\envs\\neuralnets\\lib\\threading.py\u001b[0m in \u001b[0;36mwait\u001b[1;34m(self, timeout)\u001b[0m\n\u001b[0;32m    293\u001b[0m         \u001b[1;32mtry\u001b[0m\u001b[1;33m:\u001b[0m    \u001b[1;31m# restore state no matter what (e.g., KeyboardInterrupt)\u001b[0m\u001b[1;33m\u001b[0m\u001b[0m\n\u001b[0;32m    294\u001b[0m             \u001b[1;32mif\u001b[0m \u001b[0mtimeout\u001b[0m \u001b[1;32mis\u001b[0m \u001b[1;32mNone\u001b[0m\u001b[1;33m:\u001b[0m\u001b[1;33m\u001b[0m\u001b[0m\n\u001b[1;32m--> 295\u001b[1;33m                 \u001b[0mwaiter\u001b[0m\u001b[1;33m.\u001b[0m\u001b[0macquire\u001b[0m\u001b[1;33m(\u001b[0m\u001b[1;33m)\u001b[0m\u001b[1;33m\u001b[0m\u001b[0m\n\u001b[0m\u001b[0;32m    296\u001b[0m                 \u001b[0mgotit\u001b[0m \u001b[1;33m=\u001b[0m \u001b[1;32mTrue\u001b[0m\u001b[1;33m\u001b[0m\u001b[0m\n\u001b[0;32m    297\u001b[0m             \u001b[1;32melse\u001b[0m\u001b[1;33m:\u001b[0m\u001b[1;33m\u001b[0m\u001b[0m\n",
      "\u001b[1;31mKeyboardInterrupt\u001b[0m: "
     ]
    }
   ],
   "source": [
    "BATCH_SIZE = 300\n",
    "gen_train_cat = make_image_gen_cat(train_df)\n",
    "gen_valid_cat = make_image_gen_cat(valid_df)\n",
    "\n",
    "aug_gen_cat = create_aug_gen(make_image_gen_cat(train_df))\n",
    "\n",
    "\n",
    "net = model.fit_generator(gen_train_cat,\n",
    "                          steps_per_epoch = 100,\n",
    "                          epochs = 50,\n",
    "                          validation_data = gen_valid_cat,\n",
    "                          validation_steps = 220,\n",
    "                          callbacks = callbacks_list,\n",
    "                          workers=1, \n",
    "                          verbose = 1)"
   ]
  },
  {
   "cell_type": "code",
   "execution_count": 99,
   "metadata": {},
   "outputs": [
    {
     "data": {
      "image/png": "[encoded data removed]",
      "text/plain": [
       "<Figure size 432x288 with 1 Axes>"
      ]
     },
     "metadata": {},
     "output_type": "display_data"
    }
   ],
   "source": [
    "# plot the training loss\n",
    "plt.style.use(\"ggplot\")\n",
    "plt.figure()\n",
    "N = 50\n",
    "plt.plot(np.arange(0, N), net.history[\"loss\"], label=\"train_loss\")\n",
    "plt.plot(np.arange(0, N), net.history[\"val_loss\"], label=\"val_loss\")\n",
    "plt.title(\"Training Loss\")\n",
    "plt.xlabel(\"Epoch #\")\n",
    "plt.ylabel(\"Loss/Accuracy\")\n",
    "plt.legend(loc=\"upper left\")\n",
    "# plot the trainingaccuracy\n",
    "plt.plot(np.arange(0, N), net.history[\"acc\"], label=\"train_acc\")\n",
    "plt.plot(np.arange(0, N), net.history[\"val_acc\"], label=\"val_acc\")\n",
    "plt.title(\"Training Accuracy\")\n",
    "plt.xlabel(\"Epoch #\")\n",
    "plt.ylabel(\"Loss/Accuracy\")\n",
    "plt.legend(loc=\"upper left\");"
   ]
  },
  {
   "cell_type": "code",
   "execution_count": null,
   "metadata": {},
   "outputs": [],
   "source": []
  },
  {
   "cell_type": "code",
   "execution_count": null,
   "metadata": {},
   "outputs": [],
   "source": []
  },
  {
   "cell_type": "code",
   "execution_count": 164,
   "metadata": {},
   "outputs": [],
   "source": [
    "test_x = pd.read_csv('input/test_x.csv', index_col=0, header=None)\n",
    "test_d1 = [[np.array(x)] for x in test_x.values]\n",
    "test_d1 = {'map': test_d1}\n",
    "test = pd.DataFrame(data=test_d1)"
   ]
  },
  {
   "cell_type": "code",
   "execution_count": 165,
   "metadata": {},
   "outputs": [],
   "source": [
    "out_map = []\n",
    "out_class = []\n",
    "for index, row in test.iterrows():\n",
    "    out_map += [pd.Series(row).values[0][0]]\n",
    "\n",
    "out_map = np.array(out_map)\n",
    "out_map = out_map.reshape(out_map.shape[0], IMAGE_DIMS[0], IMAGE_DIMS[1], IMAGE_DIMS[2])\n",
    "out_map = np.stack(out_map, 0)"
   ]
  },
  {
   "cell_type": "code",
   "execution_count": 166,
   "metadata": {},
   "outputs": [
    {
     "name": "stdout",
     "output_type": "stream",
     "text": [
      "(4800, 2)\n",
      "Wall time: 1.24 s\n"
     ]
    }
   ],
   "source": [
    "%%time\n",
    "y_test_pred = model.predict(out_map)\n",
    "\n",
    "print(y_test_pred.shape)"
   ]
  },
  {
   "cell_type": "code",
   "execution_count": 167,
   "metadata": {},
   "outputs": [],
   "source": [
    "df = np.array([[i, x.argmax()] for i, x in enumerate(y_test_pred)])\n",
    "sample = pd.DataFrame(df, columns=['id', 'target'])\n",
    "\n",
    "mappping_type_inv = {0: 'Bird', 1: 'Airplane'}\n",
    "sample = sample.replace({'target': mappping_type_inv})"
   ]
  },
  {
   "cell_type": "code",
   "execution_count": 168,
   "metadata": {},
   "outputs": [
    {
     "data": {
      "text/html": [
       "<div>\n",
       "<style scoped>\n",
       "    .dataframe tbody tr th:only-of-type {\n",
       "        vertical-align: middle;\n",
       "    }\n",
       "\n",
       "    .dataframe tbody tr th {\n",
       "        vertical-align: top;\n",
       "    }\n",
       "\n",
       "    .dataframe thead th {\n",
       "        text-align: right;\n",
       "    }\n",
       "</style>\n",
       "<table border=\"1\" class=\"dataframe\">\n",
       "  <thead>\n",
       "    <tr style=\"text-align: right;\">\n",
       "      <th></th>\n",
       "      <th>id</th>\n",
       "      <th>target</th>\n",
       "    </tr>\n",
       "  </thead>\n",
       "  <tbody>\n",
       "    <tr>\n",
       "      <th>0</th>\n",
       "      <td>0</td>\n",
       "      <td>Airplane</td>\n",
       "    </tr>\n",
       "    <tr>\n",
       "      <th>1</th>\n",
       "      <td>1</td>\n",
       "      <td>Airplane</td>\n",
       "    </tr>\n",
       "    <tr>\n",
       "      <th>2</th>\n",
       "      <td>2</td>\n",
       "      <td>Bird</td>\n",
       "    </tr>\n",
       "    <tr>\n",
       "      <th>3</th>\n",
       "      <td>3</td>\n",
       "      <td>Airplane</td>\n",
       "    </tr>\n",
       "    <tr>\n",
       "      <th>4</th>\n",
       "      <td>4</td>\n",
       "      <td>Bird</td>\n",
       "    </tr>\n",
       "  </tbody>\n",
       "</table>\n",
       "</div>"
      ],
      "text/plain": [
       "   id    target\n",
       "0   0  Airplane\n",
       "1   1  Airplane\n",
       "2   2      Bird\n",
       "3   3  Airplane\n",
       "4   4      Bird"
      ]
     },
     "execution_count": 168,
     "metadata": {},
     "output_type": "execute_result"
    }
   ],
   "source": [
    "sample.head()"
   ]
  },
  {
   "cell_type": "code",
   "execution_count": 169,
   "metadata": {},
   "outputs": [],
   "source": [
    "sample.to_csv('output/submit_1.csv', index=False)"
   ]
  },
  {
   "cell_type": "code",
   "execution_count": null,
   "metadata": {},
   "outputs": [],
   "source": []
  },
  {
   "cell_type": "code",
   "execution_count": null,
   "metadata": {},
   "outputs": [],
   "source": []
  },
  {
   "cell_type": "code",
   "execution_count": null,
   "metadata": {},
   "outputs": [],
   "source": []
  },
  {
   "cell_type": "code",
   "execution_count": null,
   "metadata": {},
   "outputs": [],
   "source": []
  },
  {
   "cell_type": "code",
   "execution_count": null,
   "metadata": {},
   "outputs": [],
   "source": []
  },
  {
   "cell_type": "code",
   "execution_count": null,
   "metadata": {},
   "outputs": [],
   "source": []
  }
 ],
 "metadata": {
  "kernelspec": {
   "display_name": "Python 3",
   "language": "python",
   "name": "python3"
  },
  "language_info": {
   "codemirror_mode": {
    "name": "ipython",
    "version": 3
   },
   "file_extension": ".py",
   "mimetype": "text/x-python",
   "name": "python",
   "nbconvert_exporter": "python",
   "pygments_lexer": "ipython3",
   "version": "3.6.7"
  }
 },
 "nbformat": 4,
 "nbformat_minor": 2
}
