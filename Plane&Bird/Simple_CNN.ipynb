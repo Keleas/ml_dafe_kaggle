{
 "cells": [
  {
   "cell_type": "code",
   "execution_count": 1,
   "metadata": {},
   "outputs": [],
   "source": [
    "import numpy as np \n",
    "import pandas as pd \n",
    "import matplotlib.pyplot as plt \n",
    "import os\n",
    "import cv2\n",
    "\n",
    "%matplotlib inline"
   ]
  },
  {
   "cell_type": "code",
   "execution_count": 2,
   "metadata": {},
   "outputs": [
    {
     "name": "stderr",
     "output_type": "stream",
     "text": [
      "C:\\Users\\user\\Anaconda3\\envs\\networks\\lib\\site-packages\\h5py\\__init__.py:72: UserWarning: h5py is running against HDF5 1.10.2 when it was built against 1.10.3, this may cause problems\n",
      "  '{0}.{1}.{2}'.format(*version.hdf5_built_version_tuple)\n"
     ]
    },
    {
     "name": "stdout",
     "output_type": "stream",
     "text": [
      "[name: \"/device:CPU:0\"\n",
      "device_type: \"CPU\"\n",
      "memory_limit: 268435456\n",
      "locality {\n",
      "}\n",
      "incarnation: 4634630601500064563\n",
      ", name: \"/device:GPU:0\"\n",
      "device_type: \"GPU\"\n",
      "memory_limit: 6705216225\n",
      "locality {\n",
      "  bus_id: 1\n",
      "  links {\n",
      "  }\n",
      "}\n",
      "incarnation: 14514268848476713149\n",
      "physical_device_desc: \"device: 0, name: Quadro P4000, pci bus id: 0000:65:00.0, compute capability: 6.1\"\n",
      "]\n"
     ]
    }
   ],
   "source": [
    "from tensorflow.python.client import device_lib\n",
    "print(device_lib.list_local_devices())"
   ]
  },
  {
   "cell_type": "code",
   "execution_count": 3,
   "metadata": {},
   "outputs": [],
   "source": [
    "train_x = pd.read_csv('input/train_x.csv', index_col=0, header=None)\n",
    "train_y = pd.read_csv('input/train_y.csv', index_col=0)\n",
    "test_x = pd.read_csv('input/test_x.csv', index_col=0, header=None)"
   ]
  },
  {
   "cell_type": "code",
   "execution_count": 4,
   "metadata": {},
   "outputs": [
    {
     "data": {
      "text/plain": [
       "(4800, 3072)"
      ]
     },
     "execution_count": 4,
     "metadata": {},
     "output_type": "execute_result"
    }
   ],
   "source": [
    "test_x.shape"
   ]
  },
  {
   "cell_type": "code",
   "execution_count": 5,
   "metadata": {},
   "outputs": [
    {
     "name": "stderr",
     "output_type": "stream",
     "text": [
      "Using TensorFlow backend.\n"
     ]
    }
   ],
   "source": [
    "import matplotlib\n",
    "matplotlib.use(\"Agg\")\n",
    " \n",
    "from keras.optimizers import Adam\n",
    "from keras.preprocessing.image import img_to_array\n",
    "# from sklearn.model_selection import train_test_split\n",
    "import matplotlib.pyplot as plt\n",
    "import numpy as np\n",
    "import argparse\n",
    "import random\n",
    "import pickle\n",
    "import cv2\n",
    "import os\n",
    "# from keras.utils import np_utils\n",
    "import gc \n",
    "\n",
    "import pandas as pd \n",
    "import matplotlib.pyplot as plt \n",
    "import os\n",
    "from keras.utils import np_utils\n",
    "import cv2\n",
    "\n",
    "%matplotlib inline"
   ]
  },
  {
   "cell_type": "code",
   "execution_count": 6,
   "metadata": {},
   "outputs": [],
   "source": [
    "EPOCHS = 100\n",
    "INIT_LR = 1e-3\n",
    "IMAGE_DIMS = (32 , 32 , 3)\n",
    "BATCH_SIZE = 520"
   ]
  },
  {
   "cell_type": "code",
   "execution_count": 7,
   "metadata": {},
   "outputs": [],
   "source": [
    "mappping_type = {'Bird': 0, 'Airplane': 1}\n",
    "train_y_bin = train_y.replace({\"target\": mappping_type})"
   ]
  },
  {
   "cell_type": "code",
   "execution_count": 8,
   "metadata": {},
   "outputs": [],
   "source": [
    "d1 = [[np.array(x)] for x in train_x.values]\n",
    "d = {'map': d1, 'target': train_y_bin.target}"
   ]
  },
  {
   "cell_type": "code",
   "execution_count": 9,
   "metadata": {},
   "outputs": [],
   "source": [
    "df = pd.DataFrame(data=d)"
   ]
  },
  {
   "cell_type": "code",
   "execution_count": 10,
   "metadata": {},
   "outputs": [
    {
     "data": {
      "text/plain": [
       "(7200,)"
      ]
     },
     "execution_count": 10,
     "metadata": {},
     "output_type": "execute_result"
    }
   ],
   "source": [
    "df.map.shape"
   ]
  },
  {
   "cell_type": "code",
   "execution_count": 11,
   "metadata": {},
   "outputs": [
    {
     "data": {
      "text/html": [
       "<div>\n",
       "<style scoped>\n",
       "    .dataframe tbody tr th:only-of-type {\n",
       "        vertical-align: middle;\n",
       "    }\n",
       "\n",
       "    .dataframe tbody tr th {\n",
       "        vertical-align: top;\n",
       "    }\n",
       "\n",
       "    .dataframe thead th {\n",
       "        text-align: right;\n",
       "    }\n",
       "</style>\n",
       "<table border=\"1\" class=\"dataframe\">\n",
       "  <thead>\n",
       "    <tr style=\"text-align: right;\">\n",
       "      <th></th>\n",
       "      <th>map</th>\n",
       "      <th>target</th>\n",
       "    </tr>\n",
       "  </thead>\n",
       "  <tbody>\n",
       "    <tr>\n",
       "      <th>0</th>\n",
       "      <td>[[4, 20, 18, 4, 16, 15, 2, 11, 9, 2, 6, 5, 1, ...</td>\n",
       "      <td>0</td>\n",
       "    </tr>\n",
       "    <tr>\n",
       "      <th>1</th>\n",
       "      <td>[[109, 155, 233, 109, 155, 231, 110, 156, 232,...</td>\n",
       "      <td>1</td>\n",
       "    </tr>\n",
       "    <tr>\n",
       "      <th>2</th>\n",
       "      <td>[[156, 172, 195, 158, 174, 197, 158, 174, 197,...</td>\n",
       "      <td>1</td>\n",
       "    </tr>\n",
       "    <tr>\n",
       "      <th>3</th>\n",
       "      <td>[[115, 108, 52, 97, 100, 79, 86, 107, 98, 79, ...</td>\n",
       "      <td>1</td>\n",
       "    </tr>\n",
       "    <tr>\n",
       "      <th>4</th>\n",
       "      <td>[[167, 205, 221, 160, 198, 213, 161, 198, 214,...</td>\n",
       "      <td>1</td>\n",
       "    </tr>\n",
       "  </tbody>\n",
       "</table>\n",
       "</div>"
      ],
      "text/plain": [
       "                                                 map  target\n",
       "0  [[4, 20, 18, 4, 16, 15, 2, 11, 9, 2, 6, 5, 1, ...       0\n",
       "1  [[109, 155, 233, 109, 155, 231, 110, 156, 232,...       1\n",
       "2  [[156, 172, 195, 158, 174, 197, 158, 174, 197,...       1\n",
       "3  [[115, 108, 52, 97, 100, 79, 86, 107, 98, 79, ...       1\n",
       "4  [[167, 205, 221, 160, 198, 213, 161, 198, 214,...       1"
      ]
     },
     "execution_count": 11,
     "metadata": {},
     "output_type": "execute_result"
    }
   ],
   "source": [
    "df.head()"
   ]
  },
  {
   "cell_type": "code",
   "execution_count": 12,
   "metadata": {},
   "outputs": [],
   "source": [
    "def make_image_gen_cat(in_df, batch_size=BATCH_SIZE):\n",
    "    all_batches = in_df.sample(frac=1)\n",
    "    out_map = []\n",
    "    out_class = []\n",
    "    while True:\n",
    "        for index, row in in_df.iterrows():\n",
    "#             out_map += [np.expand_dims(row.waferMap, -1)]\n",
    "#             out_map += [row.map]\n",
    "            out_map += [pd.Series(row).values[0][0]]\n",
    "#             print(pd.Series(row).values[0][0])\n",
    "            out_class += [row.target]\n",
    "            if len(out_map) >= batch_size:\n",
    "                out_map = np.array(out_map)\n",
    "                out_map = out_map.reshape(out_map.shape[0], IMAGE_DIMS[0], IMAGE_DIMS[1], IMAGE_DIMS[2])\n",
    "                yield np.stack(out_map, 0), np.array(np_utils.to_categorical(out_class, num_classes=2))\n",
    "                out_map = []\n",
    "                out_class = []"
   ]
  },
  {
   "cell_type": "code",
   "execution_count": 13,
   "metadata": {},
   "outputs": [
    {
     "data": {
      "text/plain": [
       "(5760, 1440)"
      ]
     },
     "execution_count": 13,
     "metadata": {},
     "output_type": "execute_result"
    }
   ],
   "source": [
    "from sklearn.model_selection import train_test_split\n",
    "\n",
    "train_df, valid_df = train_test_split(df, test_size=0.2)\n",
    "train_df.shape[0], valid_df.shape[0]"
   ]
  },
  {
   "cell_type": "code",
   "execution_count": 14,
   "metadata": {},
   "outputs": [],
   "source": [
    "from keras.preprocessing.image import ImageDataGenerator\n",
    "\n",
    "dg_args = dict(featurewise_center = False, \n",
    "                  samplewise_center = False,\n",
    "                  rotation_range = 15,  \n",
    "                  horizontal_flip = True, \n",
    "                  vertical_flip = True)\n",
    "\n",
    "image_gen = ImageDataGenerator(**dg_args)\n",
    "label_gen = ImageDataGenerator()\n",
    "\n",
    "def create_aug_gen(in_gen, seed = None):\n",
    "    np.random.seed(seed if seed is not None else np.random.choice(range(9999)))\n",
    "    for in_x, in_y in in_gen:\n",
    "        # keep the seeds syncronized otherwise the augmentation \n",
    "        # to the images is different from the masks\n",
    "        g_x = image_gen.flow(in_x, \n",
    "                             batch_size = in_x.shape[0])\n",
    "\n",
    "        yield next(g_x), in_y"
   ]
  },
  {
   "cell_type": "code",
   "execution_count": 15,
   "metadata": {},
   "outputs": [
    {
     "name": "stdout",
     "output_type": "stream",
     "text": [
      "x (520, 32, 32, 3)\n",
      "y (520, 2)\n"
     ]
    },
    {
     "data": {
      "text/plain": [
       "27"
      ]
     },
     "execution_count": 15,
     "metadata": {},
     "output_type": "execute_result"
    }
   ],
   "source": [
    "train_gen = make_image_gen_cat(train_df)\n",
    "train_x, train_y = next(train_gen)\n",
    "print('x', train_x.shape)\n",
    "print('y', train_y.shape)\n",
    "cur_gen = create_aug_gen(train_gen)\n",
    "t_x, t_y = next(cur_gen)\n",
    "\n",
    "gc.collect()"
   ]
  },
  {
   "cell_type": "code",
   "execution_count": 16,
   "metadata": {},
   "outputs": [
    {
     "name": "stdout",
     "output_type": "stream",
     "text": [
      "(520, 32, 32, 3) (520, 2)\n",
      "[0. 1.]\n",
      "Wall time: 108 ms\n"
     ]
    },
    {
     "data": {
      "image/png": "[encoded data removed]",
      "text/plain": [
       "<Figure size 432x288 with 1 Axes>"
      ]
     },
     "metadata": {
      "needs_background": "light"
     },
     "output_type": "display_data"
    }
   ],
   "source": [
    "%%time\n",
    "valid_x, valid_y = next(make_image_gen_cat(train_df))\n",
    "print(valid_x.shape, valid_y.shape)\n",
    "\n",
    "n = 16\n",
    "plt.imshow(valid_x[n,:,:])\n",
    "print(valid_y[n])"
   ]
  },
  {
   "cell_type": "code",
   "execution_count": null,
   "metadata": {},
   "outputs": [],
   "source": []
  },
  {
   "cell_type": "code",
   "execution_count": null,
   "metadata": {},
   "outputs": [],
   "source": []
  },
  {
   "cell_type": "code",
   "execution_count": 17,
   "metadata": {},
   "outputs": [],
   "source": [
    "from keras.models import Sequential\n",
    "from keras.layers.normalization import BatchNormalization\n",
    "from keras.layers.convolutional import Conv2D\n",
    "from keras.layers.convolutional import MaxPooling2D\n",
    "from keras.layers import GlobalMaxPooling2D\n",
    "from keras.layers.core import Activation\n",
    "from keras.layers.core import Flatten\n",
    "from keras.layers.core import Dropout\n",
    "from keras.layers.core import Dense\n",
    "from keras import backend as K\n",
    "from keras.utils import np_utils"
   ]
  },
  {
   "cell_type": "code",
   "execution_count": 18,
   "metadata": {},
   "outputs": [],
   "source": [
    "class SmallerVGGNet:\n",
    "    @staticmethod\n",
    "    def build(width, height, depth, classes, finalAct=\"softmax\"):\n",
    "        # initialize the model along with the input shape to be\n",
    "        # \"channels last\" and the channels dimension itself\n",
    "        model = Sequential()\n",
    "        inputShape = (height, width, depth)\n",
    "        chanDim = -1\n",
    "\n",
    "        # if we are using \"channels first\", update the input shape\n",
    "        # and channels dimension\n",
    "        if K.image_data_format() == \"channels_first\":\n",
    "            inputShape = (depth, height, width)\n",
    "            chanDim = 1\n",
    "\n",
    "        # CONV => RELU => POOL\n",
    "        model.add(Conv2D(32, (3, 3), padding=\"same\", \n",
    "                         input_shape=(IMAGE_DIMS[0], IMAGE_DIMS[1], IMAGE_DIMS[2])))\n",
    "        model.add(Activation(\"relu\"))\n",
    "        model.add(BatchNormalization())\n",
    "        model.add(Conv2D(32, (3, 3), padding=\"same\"))\n",
    "        model.add(Activation(\"relu\"))\n",
    "        model.add(BatchNormalization())\n",
    "        model.add(Conv2D(32, (3, 3), padding=\"same\"))\n",
    "        model.add(Activation(\"relu\"))\n",
    "        model.add(BatchNormalization())\n",
    "        model.add(Conv2D(48, (3, 3), padding=\"same\"))\n",
    "        model.add(Activation(\"relu\"))\n",
    "        model.add(BatchNormalization())\n",
    "        model.add(Conv2D(48, (3, 3), padding=\"same\"))\n",
    "        model.add(Activation(\"relu\"))\n",
    "        model.add(BatchNormalization())\n",
    "        model.add(MaxPooling2D(pool_size=(2, 2)))\n",
    "        model.add(Dropout(0.2))\n",
    "        \n",
    "        # (CONV => RELU) * 2 => POOL\n",
    "        model.add(Conv2D(80, (3, 3), padding=\"same\"))\n",
    "        model.add(Activation(\"relu\"))\n",
    "        model.add(BatchNormalization())\n",
    "        model.add(Conv2D(80, (3, 3), padding=\"same\"))\n",
    "        model.add(Activation(\"relu\"))\n",
    "        model.add(BatchNormalization())\n",
    "        model.add(Conv2D(80, (3, 3), padding=\"same\"))\n",
    "        model.add(Activation(\"relu\"))\n",
    "        model.add(BatchNormalization())\n",
    "        model.add(Conv2D(80, (3, 3), padding=\"same\"))\n",
    "        model.add(Activation(\"relu\"))\n",
    "        model.add(BatchNormalization())\n",
    "        model.add(Conv2D(80, (3, 3), padding=\"same\"))\n",
    "        model.add(Activation(\"relu\"))\n",
    "        model.add(BatchNormalization())\n",
    "        model.add(MaxPooling2D(pool_size=(2, 2)))\n",
    "        model.add(Dropout(0.3))\n",
    "\n",
    "                # (CONV => RELU) * 2 => POOL\n",
    "        model.add(Conv2D(128, (3, 3), padding=\"same\"))\n",
    "        model.add(Activation(\"relu\"))\n",
    "        model.add(BatchNormalization())\n",
    "        model.add(Conv2D(128, (3, 3), padding=\"same\"))\n",
    "        model.add(Activation(\"relu\"))\n",
    "        model.add(BatchNormalization())\n",
    "        model.add(Conv2D(128, (3, 3), padding=\"same\"))\n",
    "        model.add(Activation(\"relu\"))\n",
    "        model.add(BatchNormalization())\n",
    "        model.add(Conv2D(128, (3, 3), padding=\"same\"))\n",
    "        model.add(Activation(\"relu\"))\n",
    "        model.add(BatchNormalization())\n",
    "        model.add(Conv2D(128, (3, 3), padding=\"same\"))\n",
    "        model.add(Activation(\"relu\"))\n",
    "        model.add(BatchNormalization())\n",
    "        model.add(MaxPooling2D(pool_size=(8, 8)))\n",
    "        model.add(Dropout(0.4))\n",
    "\n",
    "        # first (and only) set of FC => RELU layers\n",
    "        model.add(Flatten())\n",
    "        model.add(Dense(500))\n",
    "        model.add(Activation(\"relu\"))\n",
    "        model.add(BatchNormalization())\n",
    "        model.add(Dropout(0.5))\n",
    "\n",
    "        # use a *softmax* activation for single-label classification\n",
    "        # and *sigmoid* activation for multi-label classification\n",
    "        model.add(Dense(classes))\n",
    "        \n",
    "        model.add(Activation(finalAct))\n",
    "\n",
    "        # return the constructed network architecture\n",
    "        return model"
   ]
  },
  {
   "cell_type": "code",
   "execution_count": 19,
   "metadata": {},
   "outputs": [
    {
     "name": "stdout",
     "output_type": "stream",
     "text": [
      "WARNING:tensorflow:From C:\\Users\\user\\Anaconda3\\envs\\networks\\lib\\site-packages\\tensorflow\\python\\framework\\op_def_library.py:263: colocate_with (from tensorflow.python.framework.ops) is deprecated and will be removed in a future version.\n",
      "Instructions for updating:\n",
      "Colocations handled automatically by placer.\n",
      "WARNING:tensorflow:From C:\\Users\\user\\Anaconda3\\envs\\networks\\lib\\site-packages\\keras\\backend\\tensorflow_backend.py:3445: calling dropout (from tensorflow.python.ops.nn_ops) with keep_prob is deprecated and will be removed in a future version.\n",
      "Instructions for updating:\n",
      "Please use `rate` instead of `keep_prob`. Rate should be set to `rate = 1 - keep_prob`.\n"
     ]
    }
   ],
   "source": [
    "model = SmallerVGGNet.build(width=IMAGE_DIMS[1], height=IMAGE_DIMS[0],\n",
    "                            depth=IMAGE_DIMS[2], classes=2, \n",
    "                            finalAct=\"sigmoid\")\n",
    " \n",
    "# initialize the optimizer\n",
    "opt = Adam(lr=INIT_LR, decay=INIT_LR / EPOCHS)"
   ]
  },
  {
   "cell_type": "code",
   "execution_count": 20,
   "metadata": {
    "scrolled": true
   },
   "outputs": [
    {
     "name": "stdout",
     "output_type": "stream",
     "text": [
      "_________________________________________________________________\n",
      "Layer (type)                 Output Shape              Param #   \n",
      "=================================================================\n",
      "conv2d_1 (Conv2D)            (None, 32, 32, 32)        896       \n",
      "_________________________________________________________________\n",
      "activation_1 (Activation)    (None, 32, 32, 32)        0         \n",
      "_________________________________________________________________\n",
      "batch_normalization_1 (Batch (None, 32, 32, 32)        128       \n",
      "_________________________________________________________________\n",
      "conv2d_2 (Conv2D)            (None, 32, 32, 32)        9248      \n",
      "_________________________________________________________________\n",
      "activation_2 (Activation)    (None, 32, 32, 32)        0         \n",
      "_________________________________________________________________\n",
      "batch_normalization_2 (Batch (None, 32, 32, 32)        128       \n",
      "_________________________________________________________________\n",
      "conv2d_3 (Conv2D)            (None, 32, 32, 32)        9248      \n",
      "_________________________________________________________________\n",
      "activation_3 (Activation)    (None, 32, 32, 32)        0         \n",
      "_________________________________________________________________\n",
      "batch_normalization_3 (Batch (None, 32, 32, 32)        128       \n",
      "_________________________________________________________________\n",
      "conv2d_4 (Conv2D)            (None, 32, 32, 48)        13872     \n",
      "_________________________________________________________________\n",
      "activation_4 (Activation)    (None, 32, 32, 48)        0         \n",
      "_________________________________________________________________\n",
      "batch_normalization_4 (Batch (None, 32, 32, 48)        192       \n",
      "_________________________________________________________________\n",
      "conv2d_5 (Conv2D)            (None, 32, 32, 48)        20784     \n",
      "_________________________________________________________________\n",
      "activation_5 (Activation)    (None, 32, 32, 48)        0         \n",
      "_________________________________________________________________\n",
      "batch_normalization_5 (Batch (None, 32, 32, 48)        192       \n",
      "_________________________________________________________________\n",
      "max_pooling2d_1 (MaxPooling2 (None, 16, 16, 48)        0         \n",
      "_________________________________________________________________\n",
      "dropout_1 (Dropout)          (None, 16, 16, 48)        0         \n",
      "_________________________________________________________________\n",
      "conv2d_6 (Conv2D)            (None, 16, 16, 80)        34640     \n",
      "_________________________________________________________________\n",
      "activation_6 (Activation)    (None, 16, 16, 80)        0         \n",
      "_________________________________________________________________\n",
      "batch_normalization_6 (Batch (None, 16, 16, 80)        320       \n",
      "_________________________________________________________________\n",
      "conv2d_7 (Conv2D)            (None, 16, 16, 80)        57680     \n",
      "_________________________________________________________________\n",
      "activation_7 (Activation)    (None, 16, 16, 80)        0         \n",
      "_________________________________________________________________\n",
      "batch_normalization_7 (Batch (None, 16, 16, 80)        320       \n",
      "_________________________________________________________________\n",
      "conv2d_8 (Conv2D)            (None, 16, 16, 80)        57680     \n",
      "_________________________________________________________________\n",
      "activation_8 (Activation)    (None, 16, 16, 80)        0         \n",
      "_________________________________________________________________\n",
      "batch_normalization_8 (Batch (None, 16, 16, 80)        320       \n",
      "_________________________________________________________________\n",
      "conv2d_9 (Conv2D)            (None, 16, 16, 80)        57680     \n",
      "_________________________________________________________________\n",
      "activation_9 (Activation)    (None, 16, 16, 80)        0         \n",
      "_________________________________________________________________\n",
      "batch_normalization_9 (Batch (None, 16, 16, 80)        320       \n",
      "_________________________________________________________________\n",
      "conv2d_10 (Conv2D)           (None, 16, 16, 80)        57680     \n",
      "_________________________________________________________________\n",
      "activation_10 (Activation)   (None, 16, 16, 80)        0         \n",
      "_________________________________________________________________\n",
      "batch_normalization_10 (Batc (None, 16, 16, 80)        320       \n",
      "_________________________________________________________________\n",
      "max_pooling2d_2 (MaxPooling2 (None, 8, 8, 80)          0         \n",
      "_________________________________________________________________\n",
      "dropout_2 (Dropout)          (None, 8, 8, 80)          0         \n",
      "_________________________________________________________________\n",
      "conv2d_11 (Conv2D)           (None, 8, 8, 128)         92288     \n",
      "_________________________________________________________________\n",
      "activation_11 (Activation)   (None, 8, 8, 128)         0         \n",
      "_________________________________________________________________\n",
      "batch_normalization_11 (Batc (None, 8, 8, 128)         512       \n",
      "_________________________________________________________________\n",
      "conv2d_12 (Conv2D)           (None, 8, 8, 128)         147584    \n",
      "_________________________________________________________________\n",
      "activation_12 (Activation)   (None, 8, 8, 128)         0         \n",
      "_________________________________________________________________\n",
      "batch_normalization_12 (Batc (None, 8, 8, 128)         512       \n",
      "_________________________________________________________________\n",
      "conv2d_13 (Conv2D)           (None, 8, 8, 128)         147584    \n",
      "_________________________________________________________________\n",
      "activation_13 (Activation)   (None, 8, 8, 128)         0         \n",
      "_________________________________________________________________\n",
      "batch_normalization_13 (Batc (None, 8, 8, 128)         512       \n",
      "_________________________________________________________________\n",
      "conv2d_14 (Conv2D)           (None, 8, 8, 128)         147584    \n",
      "_________________________________________________________________\n",
      "activation_14 (Activation)   (None, 8, 8, 128)         0         \n",
      "_________________________________________________________________\n",
      "batch_normalization_14 (Batc (None, 8, 8, 128)         512       \n",
      "_________________________________________________________________\n",
      "conv2d_15 (Conv2D)           (None, 8, 8, 128)         147584    \n",
      "_________________________________________________________________\n",
      "activation_15 (Activation)   (None, 8, 8, 128)         0         \n",
      "_________________________________________________________________\n",
      "batch_normalization_15 (Batc (None, 8, 8, 128)         512       \n",
      "_________________________________________________________________\n",
      "max_pooling2d_3 (MaxPooling2 (None, 1, 1, 128)         0         \n",
      "_________________________________________________________________\n",
      "dropout_3 (Dropout)          (None, 1, 1, 128)         0         \n",
      "_________________________________________________________________\n",
      "flatten_1 (Flatten)          (None, 128)               0         \n",
      "_________________________________________________________________\n",
      "dense_1 (Dense)              (None, 500)               64500     \n",
      "_________________________________________________________________\n",
      "activation_16 (Activation)   (None, 500)               0         \n",
      "_________________________________________________________________\n",
      "batch_normalization_16 (Batc (None, 500)               2000      \n",
      "_________________________________________________________________\n",
      "dropout_4 (Dropout)          (None, 500)               0         \n",
      "_________________________________________________________________\n",
      "dense_2 (Dense)              (None, 2)                 1002      \n",
      "_________________________________________________________________\n",
      "activation_17 (Activation)   (None, 2)                 0         \n",
      "=================================================================\n",
      "Total params: 1,074,462\n",
      "Trainable params: 1,070,998\n",
      "Non-trainable params: 3,464\n",
      "_________________________________________________________________\n"
     ]
    }
   ],
   "source": [
    "model.summary()"
   ]
  },
  {
   "cell_type": "code",
   "execution_count": 21,
   "metadata": {},
   "outputs": [],
   "source": [
    "from keras.callbacks import Callback\n",
    "class TestCallback(Callback):\n",
    "    def __init__(self, test_data):\n",
    "        self.test_data = test_data\n",
    "        \n",
    "    def on_epoch_end(self, epoch, logs={}):\n",
    "        x, y = self.test_data\n",
    "        loss, dice_coef, acc, _ = self.model.evaluate(x, y, verbose=0)\n",
    "        print('\\n - Testing loss: {:.4f} - dice_coef: {:.4f} - acc: {:.4f}\\n'.format(loss, dice_coef, acc))"
   ]
  },
  {
   "cell_type": "code",
   "execution_count": 22,
   "metadata": {},
   "outputs": [
    {
     "data": {
      "text/plain": [
       "0"
      ]
     },
     "execution_count": 22,
     "metadata": {},
     "output_type": "execute_result"
    }
   ],
   "source": [
    "import keras.backend as K\n",
    "from keras.optimizers import Adam\n",
    "from keras.losses import binary_crossentropy\n",
    "from keras.callbacks import ModelCheckpoint, LearningRateScheduler, EarlyStopping, ReduceLROnPlateau\n",
    "\n",
    "weight_path=\"C:\\\\Users\\\\user\\\\Python_Code\\\\Kaggle\\\\Plane&Bird\\\\strong_weights_2.h5\"\n",
    "# weight_path = ''\n",
    "checkpoint = ModelCheckpoint(weight_path, monitor='val_acc', verbose=1, \n",
    "                             save_best_only=True, mode='max', save_weights_only=True)\n",
    "\n",
    "reduceLROnPlat = ReduceLROnPlateau(monitor='val_acc', factor=0.33,\n",
    "                                   patience=3, verbose=1, mode='max',\n",
    "                                   min_delta=0.0001, cooldown=0, min_lr=1e-6)\n",
    "\n",
    "early = EarlyStopping(monitor=\"val_acc\", mode=\"max\", verbose=2, \n",
    "                      patience=10)\n",
    "\n",
    "\n",
    "\n",
    "callbacks_list = [checkpoint, reduceLROnPlat]\n",
    "\n",
    "gc.collect()"
   ]
  },
  {
   "cell_type": "code",
   "execution_count": 28,
   "metadata": {},
   "outputs": [],
   "source": [
    "from keras import metrics\n",
    "from keras import backend as K\n",
    "\n",
    "model.compile(optimizer=Adam(1e-3, decay=1e-6), \n",
    "              loss=\"categorical_crossentropy\",\n",
    "              metrics=[\"accuracy\", \n",
    "                      metrics.categorical_accuracy])\n",
    "\n",
    "def reset_weights(model):\n",
    "    session = K.get_session()\n",
    "    for layer in model.layers: \n",
    "        if hasattr(layer, 'kernel_initializer'):\n",
    "            layer.kernel.initializer.run(session=session)\n",
    "            \n",
    "reset_weights(model)"
   ]
  },
  {
   "cell_type": "code",
   "execution_count": 29,
   "metadata": {
    "scrolled": true
   },
   "outputs": [
    {
     "name": "stdout",
     "output_type": "stream",
     "text": [
      "Epoch 1/50\n",
      "500/500 [==============================] - 159s 319ms/step - loss: 0.1568 - acc: 0.9347 - categorical_accuracy: 0.9347 - val_loss: 0.5558 - val_acc: 0.9021 - val_categorical_accuracy: 0.9021\n",
      "\n",
      "Epoch 00001: val_acc improved from 0.49174 to 0.90206, saving model to C:\\Users\\user\\Python_Code\\Kaggle\\Plane&Bird\\strong_weights_2.h5\n",
      "Epoch 2/50\n",
      "500/500 [==============================] - 157s 314ms/step - loss: 0.0218 - acc: 0.9923 - categorical_accuracy: 0.9923 - val_loss: 0.5637 - val_acc: 0.8931 - val_categorical_accuracy: 0.8931\n",
      "\n",
      "Epoch 00002: val_acc did not improve from 0.90206\n",
      "Epoch 3/50\n",
      "500/500 [==============================] - 158s 315ms/step - loss: 0.0110 - acc: 0.9963 - categorical_accuracy: 0.9963 - val_loss: 0.8181 - val_acc: 0.8715 - val_categorical_accuracy: 0.8715\n",
      "\n",
      "Epoch 00003: val_acc did not improve from 0.90206\n",
      "Epoch 4/50\n",
      "500/500 [==============================] - 157s 314ms/step - loss: 0.0087 - acc: 0.9971 - categorical_accuracy: 0.9971 - val_loss: 0.6107 - val_acc: 0.8973 - val_categorical_accuracy: 0.8973\n",
      "\n",
      "Epoch 00004: val_acc did not improve from 0.90206\n",
      "\n",
      "Epoch 00004: ReduceLROnPlateau reducing learning rate to 0.00033000001567415896.\n",
      "Epoch 5/50\n",
      "500/500 [==============================] - 156s 312ms/step - loss: 3.7553e-04 - acc: 0.9999 - categorical_accuracy: 0.9999 - val_loss: 0.5289 - val_acc: 0.9181 - val_categorical_accuracy: 0.9181\n",
      "\n",
      "Epoch 00005: val_acc improved from 0.90206 to 0.91810, saving model to C:\\Users\\user\\Python_Code\\Kaggle\\Plane&Bird\\strong_weights_2.h5\n",
      "Epoch 6/50\n",
      "500/500 [==============================] - 158s 315ms/step - loss: 6.3117e-05 - acc: 1.0000 - categorical_accuracy: 1.0000 - val_loss: 0.5749 - val_acc: 0.9159 - val_categorical_accuracy: 0.9159\n",
      "\n",
      "Epoch 00006: val_acc did not improve from 0.91810\n",
      "Epoch 7/50\n",
      "500/500 [==============================] - 157s 314ms/step - loss: 0.0014 - acc: 0.9996 - categorical_accuracy: 0.9996 - val_loss: 0.5921 - val_acc: 0.9139 - val_categorical_accuracy: 0.9139\n",
      "\n",
      "Epoch 00007: val_acc did not improve from 0.91810\n",
      "Epoch 8/50\n",
      "500/500 [==============================] - 157s 314ms/step - loss: 0.0011 - acc: 0.9997 - categorical_accuracy: 0.9997 - val_loss: 0.5291 - val_acc: 0.9215 - val_categorical_accuracy: 0.9215\n",
      "\n",
      "Epoch 00008: val_acc improved from 0.91810 to 0.92154, saving model to C:\\Users\\user\\Python_Code\\Kaggle\\Plane&Bird\\strong_weights_2.h5\n",
      "Epoch 9/50\n",
      "500/500 [==============================] - 153s 306ms/step - loss: 0.0022 - acc: 0.9993 - categorical_accuracy: 0.9993 - val_loss: 0.5418 - val_acc: 0.9173 - val_categorical_accuracy: 0.9173\n",
      "\n",
      "Epoch 00009: val_acc did not improve from 0.92154\n",
      "Epoch 10/50\n",
      "500/500 [==============================] - 152s 305ms/step - loss: 0.0027 - acc: 0.9991 - categorical_accuracy: 0.9991 - val_loss: 0.5354 - val_acc: 0.9208 - val_categorical_accuracy: 0.9208\n",
      "\n",
      "Epoch 00010: val_acc did not improve from 0.92154\n",
      "Epoch 11/50\n",
      "500/500 [==============================] - 152s 304ms/step - loss: 8.8772e-05 - acc: 1.0000 - categorical_accuracy: 1.0000 - val_loss: 0.5347 - val_acc: 0.9222 - val_categorical_accuracy: 0.9222\n",
      "\n",
      "Epoch 00011: val_acc improved from 0.92154 to 0.92225, saving model to C:\\Users\\user\\Python_Code\\Kaggle\\Plane&Bird\\strong_weights_2.h5\n",
      "Epoch 12/50\n",
      "500/500 [==============================] - 152s 304ms/step - loss: 1.5392e-05 - acc: 1.0000 - categorical_accuracy: 1.0000 - val_loss: 0.5648 - val_acc: 0.9215 - val_categorical_accuracy: 0.9215\n",
      "\n",
      "Epoch 00012: val_acc did not improve from 0.92225\n",
      "Epoch 13/50\n",
      "500/500 [==============================] - 152s 304ms/step - loss: 7.7986e-06 - acc: 1.0000 - categorical_accuracy: 1.0000 - val_loss: 0.5776 - val_acc: 0.9243 - val_categorical_accuracy: 0.9243\n",
      "\n",
      "Epoch 00013: val_acc improved from 0.92225 to 0.92432, saving model to C:\\Users\\user\\Python_Code\\Kaggle\\Plane&Bird\\strong_weights_2.h5\n",
      "Epoch 14/50\n",
      "500/500 [==============================] - 152s 304ms/step - loss: 0.0057 - acc: 0.9982 - categorical_accuracy: 0.9982 - val_loss: 0.5786 - val_acc: 0.9062 - val_categorical_accuracy: 0.9062\n",
      "\n",
      "Epoch 00014: val_acc did not improve from 0.92432\n",
      "Epoch 15/50\n",
      "500/500 [==============================] - 154s 308ms/step - loss: 0.0022 - acc: 0.9993 - categorical_accuracy: 0.9993 - val_loss: 0.5772 - val_acc: 0.9083 - val_categorical_accuracy: 0.9083\n",
      "\n",
      "Epoch 00015: val_acc did not improve from 0.92432\n",
      "Epoch 16/50\n",
      "500/500 [==============================] - 151s 303ms/step - loss: 0.0013 - acc: 0.9996 - categorical_accuracy: 0.9996 - val_loss: 0.5347 - val_acc: 0.9222 - val_categorical_accuracy: 0.9222\n",
      "\n",
      "Epoch 00016: val_acc did not improve from 0.92432\n",
      "\n",
      "Epoch 00016: ReduceLROnPlateau reducing learning rate to 0.00010890000325161964.\n",
      "Epoch 17/50\n",
      "500/500 [==============================] - 153s 306ms/step - loss: 1.2442e-04 - acc: 1.0000 - categorical_accuracy: 1.0000 - val_loss: 0.5482 - val_acc: 0.9271 - val_categorical_accuracy: 0.9271\n",
      "\n",
      "Epoch 00017: val_acc improved from 0.92432 to 0.92712, saving model to C:\\Users\\user\\Python_Code\\Kaggle\\Plane&Bird\\strong_weights_2.h5\n",
      "Epoch 18/50\n",
      "500/500 [==============================] - 152s 305ms/step - loss: 1.9487e-05 - acc: 1.0000 - categorical_accuracy: 1.0000 - val_loss: 0.5381 - val_acc: 0.9235 - val_categorical_accuracy: 0.9235\n",
      "\n",
      "Epoch 00018: val_acc did not improve from 0.92712\n",
      "Epoch 19/50\n",
      "500/500 [==============================] - 153s 306ms/step - loss: 1.3314e-05 - acc: 1.0000 - categorical_accuracy: 1.0000 - val_loss: 0.5658 - val_acc: 0.9236 - val_categorical_accuracy: 0.9236\n",
      "\n",
      "Epoch 00019: val_acc did not improve from 0.92712\n",
      "Epoch 20/50\n",
      "500/500 [==============================] - 152s 304ms/step - loss: 8.7540e-06 - acc: 1.0000 - categorical_accuracy: 1.0000 - val_loss: 0.5774 - val_acc: 0.9251 - val_categorical_accuracy: 0.9251\n",
      "\n",
      "Epoch 00020: val_acc did not improve from 0.92712\n",
      "\n",
      "Epoch 00020: ReduceLROnPlateau reducing learning rate to 3.5936999920522795e-05.\n",
      "Epoch 21/50\n",
      "500/500 [==============================] - 153s 306ms/step - loss: 5.5017e-06 - acc: 1.0000 - categorical_accuracy: 1.0000 - val_loss: 0.5816 - val_acc: 0.9256 - val_categorical_accuracy: 0.9256\n",
      "\n",
      "Epoch 00021: val_acc did not improve from 0.92712\n",
      "Epoch 22/50\n",
      "500/500 [==============================] - 153s 306ms/step - loss: 4.8178e-06 - acc: 1.0000 - categorical_accuracy: 1.0000 - val_loss: 0.5860 - val_acc: 0.9257 - val_categorical_accuracy: 0.9257\n",
      "\n",
      "Epoch 00022: val_acc did not improve from 0.92712\n",
      "Epoch 23/50\n",
      "500/500 [==============================] - 152s 305ms/step - loss: 5.2103e-05 - acc: 1.0000 - categorical_accuracy: 1.0000 - val_loss: 0.6100 - val_acc: 0.9223 - val_categorical_accuracy: 0.9223\n",
      "\n",
      "Epoch 00023: val_acc did not improve from 0.92712\n",
      "\n",
      "Epoch 00023: ReduceLROnPlateau reducing learning rate to 1.185920958960196e-05.\n",
      "Epoch 24/50\n",
      "500/500 [==============================] - 153s 305ms/step - loss: 2.9540e-05 - acc: 1.0000 - categorical_accuracy: 1.0000 - val_loss: 0.5987 - val_acc: 0.9250 - val_categorical_accuracy: 0.9250\n",
      "\n",
      "Epoch 00024: val_acc did not improve from 0.92712\n",
      "Epoch 25/50\n",
      "500/500 [==============================] - 153s 306ms/step - loss: 5.3397e-06 - acc: 1.0000 - categorical_accuracy: 1.0000 - val_loss: 0.6011 - val_acc: 0.9250 - val_categorical_accuracy: 0.9250\n",
      "\n",
      "Epoch 00025: val_acc did not improve from 0.92712\n",
      "Epoch 26/50\n",
      "500/500 [==============================] - 151s 303ms/step - loss: 5.0014e-06 - acc: 1.0000 - categorical_accuracy: 1.0000 - val_loss: 0.6041 - val_acc: 0.9257 - val_categorical_accuracy: 0.9257\n",
      "\n",
      "Epoch 00026: val_acc did not improve from 0.92712\n",
      "\n",
      "Epoch 00026: ReduceLROnPlateau reducing learning rate to 3.913539212589967e-06.\n",
      "Epoch 27/50\n",
      "500/500 [==============================] - 152s 305ms/step - loss: 5.8147e-06 - acc: 1.0000 - categorical_accuracy: 1.0000 - val_loss: 0.6042 - val_acc: 0.9256 - val_categorical_accuracy: 0.9256\n",
      "\n",
      "Epoch 00027: val_acc did not improve from 0.92712\n",
      "Epoch 28/50\n",
      "500/500 [==============================] - 152s 303ms/step - loss: 3.9595e-06 - acc: 1.0000 - categorical_accuracy: 1.0000 - val_loss: 0.6054 - val_acc: 0.9257 - val_categorical_accuracy: 0.9257\n",
      "\n",
      "Epoch 00028: val_acc did not improve from 0.92712\n",
      "Epoch 29/50\n",
      "500/500 [==============================] - 152s 304ms/step - loss: 1.4103e-05 - acc: 1.0000 - categorical_accuracy: 1.0000 - val_loss: 0.6085 - val_acc: 0.9237 - val_categorical_accuracy: 0.9237\n",
      "\n",
      "Epoch 00029: val_acc did not improve from 0.92712\n",
      "\n",
      "Epoch 00029: ReduceLROnPlateau reducing learning rate to 1.2914679791720119e-06.\n",
      "Epoch 30/50\n",
      "500/500 [==============================] - 152s 303ms/step - loss: 5.9188e-06 - acc: 1.0000 - categorical_accuracy: 1.0000 - val_loss: 0.6087 - val_acc: 0.9249 - val_categorical_accuracy: 0.9249\n",
      "\n",
      "Epoch 00030: val_acc did not improve from 0.92712\n",
      "Epoch 31/50\n",
      "500/500 [==============================] - 152s 304ms/step - loss: 5.0553e-06 - acc: 1.0000 - categorical_accuracy: 1.0000 - val_loss: 0.6075 - val_acc: 0.9250 - val_categorical_accuracy: 0.9250\n",
      "\n",
      "Epoch 00031: val_acc did not improve from 0.92712\n",
      "Epoch 32/50\n",
      "500/500 [==============================] - 150s 301ms/step - loss: 6.3160e-06 - acc: 1.0000 - categorical_accuracy: 1.0000 - val_loss: 0.6072 - val_acc: 0.9244 - val_categorical_accuracy: 0.9244\n",
      "\n",
      "Epoch 00032: val_acc did not improve from 0.92712\n",
      "\n",
      "Epoch 00032: ReduceLROnPlateau reducing learning rate to 1e-06.\n",
      "Epoch 33/50\n",
      "500/500 [==============================] - 151s 301ms/step - loss: 7.5314e-06 - acc: 1.0000 - categorical_accuracy: 1.0000 - val_loss: 0.6087 - val_acc: 0.9243 - val_categorical_accuracy: 0.9243\n",
      "\n",
      "Epoch 00033: val_acc did not improve from 0.92712\n",
      "Epoch 34/50\n",
      "500/500 [==============================] - 150s 300ms/step - loss: 3.9259e-06 - acc: 1.0000 - categorical_accuracy: 1.0000 - val_loss: 0.6081 - val_acc: 0.9236 - val_categorical_accuracy: 0.9236\n",
      "\n",
      "Epoch 00034: val_acc did not improve from 0.92712\n",
      "Epoch 35/50\n",
      "500/500 [==============================] - 150s 300ms/step - loss: 3.8593e-06 - acc: 1.0000 - categorical_accuracy: 1.0000 - val_loss: 0.6086 - val_acc: 0.9237 - val_categorical_accuracy: 0.9237\n",
      "\n",
      "Epoch 00035: val_acc did not improve from 0.92712\n",
      "Epoch 36/50\n",
      "500/500 [==============================] - 150s 300ms/step - loss: 4.6288e-06 - acc: 1.0000 - categorical_accuracy: 1.0000 - val_loss: 0.6115 - val_acc: 0.9243 - val_categorical_accuracy: 0.9243\n",
      "\n",
      "Epoch 00036: val_acc did not improve from 0.92712\n",
      "Epoch 37/50\n",
      "500/500 [==============================] - 152s 303ms/step - loss: 3.0976e-06 - acc: 1.0000 - categorical_accuracy: 1.0000 - val_loss: 0.6126 - val_acc: 0.9236 - val_categorical_accuracy: 0.9236\n",
      "\n",
      "Epoch 00037: val_acc did not improve from 0.92712\n",
      "Epoch 38/50\n",
      "500/500 [==============================] - 151s 302ms/step - loss: 2.9854e-06 - acc: 1.0000 - categorical_accuracy: 1.0000 - val_loss: 0.6135 - val_acc: 0.9237 - val_categorical_accuracy: 0.9237\n",
      "\n",
      "Epoch 00038: val_acc did not improve from 0.92712\n",
      "Epoch 39/50\n",
      "500/500 [==============================] - 151s 302ms/step - loss: 2.5817e-06 - acc: 1.0000 - categorical_accuracy: 1.0000 - val_loss: 0.6149 - val_acc: 0.9236 - val_categorical_accuracy: 0.9236\n",
      "\n",
      "Epoch 00039: val_acc did not improve from 0.92712\n",
      "Epoch 40/50\n",
      "500/500 [==============================] - 152s 304ms/step - loss: 2.9486e-06 - acc: 1.0000 - categorical_accuracy: 1.0000 - val_loss: 0.6179 - val_acc: 0.9243 - val_categorical_accuracy: 0.9243\n",
      "\n",
      "Epoch 00040: val_acc did not improve from 0.92712\n",
      "Epoch 41/50\n",
      "500/500 [==============================] - 153s 306ms/step - loss: 3.6584e-06 - acc: 1.0000 - categorical_accuracy: 1.0000 - val_loss: 0.6191 - val_acc: 0.9244 - val_categorical_accuracy: 0.9244\n",
      "\n",
      "Epoch 00041: val_acc did not improve from 0.92712\n",
      "Epoch 42/50\n",
      "500/500 [==============================] - 153s 306ms/step - loss: 2.5865e-06 - acc: 1.0000 - categorical_accuracy: 1.0000 - val_loss: 0.6220 - val_acc: 0.9242 - val_categorical_accuracy: 0.9242\n",
      "\n",
      "Epoch 00042: val_acc did not improve from 0.92712\n",
      "Epoch 43/50\n",
      "500/500 [==============================] - 153s 307ms/step - loss: 5.7061e-06 - acc: 1.0000 - categorical_accuracy: 1.0000 - val_loss: 0.6234 - val_acc: 0.9243 - val_categorical_accuracy: 0.9243\n",
      "\n",
      "Epoch 00043: val_acc did not improve from 0.92712\n",
      "Epoch 44/50\n",
      "500/500 [==============================] - 153s 306ms/step - loss: 2.3833e-06 - acc: 1.0000 - categorical_accuracy: 1.0000 - val_loss: 0.6240 - val_acc: 0.9244 - val_categorical_accuracy: 0.9244\n",
      "\n",
      "Epoch 00044: val_acc did not improve from 0.92712\n",
      "Epoch 45/50\n",
      "500/500 [==============================] - 151s 303ms/step - loss: 2.2135e-06 - acc: 1.0000 - categorical_accuracy: 1.0000 - val_loss: 0.6262 - val_acc: 0.9236 - val_categorical_accuracy: 0.9236\n",
      "\n",
      "Epoch 00045: val_acc did not improve from 0.92712\n",
      "Epoch 46/50\n",
      "500/500 [==============================] - 151s 302ms/step - loss: 2.2996e-06 - acc: 1.0000 - categorical_accuracy: 1.0000 - val_loss: 0.6267 - val_acc: 0.9243 - val_categorical_accuracy: 0.9243\n",
      "\n",
      "Epoch 00046: val_acc did not improve from 0.92712\n",
      "Epoch 47/50\n",
      "500/500 [==============================] - 152s 304ms/step - loss: 2.6105e-06 - acc: 1.0000 - categorical_accuracy: 1.0000 - val_loss: 0.6287 - val_acc: 0.9244 - val_categorical_accuracy: 0.9244\n",
      "\n",
      "Epoch 00047: val_acc did not improve from 0.92712\n",
      "Epoch 48/50\n",
      "500/500 [==============================] - 151s 303ms/step - loss: 2.3994e-06 - acc: 1.0000 - categorical_accuracy: 1.0000 - val_loss: 0.6307 - val_acc: 0.9257 - val_categorical_accuracy: 0.9257\n",
      "\n",
      "Epoch 00048: val_acc did not improve from 0.92712\n",
      "Epoch 49/50\n",
      "500/500 [==============================] - 151s 303ms/step - loss: 2.0072e-06 - acc: 1.0000 - categorical_accuracy: 1.0000 - val_loss: 0.6317 - val_acc: 0.9257 - val_categorical_accuracy: 0.9257\n",
      "\n",
      "Epoch 00049: val_acc did not improve from 0.92712\n",
      "Epoch 50/50\n",
      "500/500 [==============================] - 152s 304ms/step - loss: 2.4907e-06 - acc: 1.0000 - categorical_accuracy: 1.0000 - val_loss: 0.6335 - val_acc: 0.9257 - val_categorical_accuracy: 0.9257\n",
      "\n",
      "Epoch 00050: val_acc did not improve from 0.92712\n"
     ]
    }
   ],
   "source": [
    "BATCH_SIZE = 1000\n",
    "gen_train_cat = make_image_gen_cat(train_df)\n",
    "gen_valid_cat = make_image_gen_cat(valid_df)\n",
    "\n",
    "aug_gen_cat = create_aug_gen(make_image_gen_cat(train_df))\n",
    "\n",
    "\n",
    "net = model.fit_generator(gen_train_cat,\n",
    "                          steps_per_epoch = 500,\n",
    "                          epochs = 50,\n",
    "                          validation_data = gen_valid_cat,\n",
    "                          validation_steps = 300,\n",
    "                          callbacks = callbacks_list,\n",
    "                          workers=1, \n",
    "                          verbose = 1)"
   ]
  },
  {
   "cell_type": "code",
   "execution_count": 49,
   "metadata": {},
   "outputs": [
    {
     "data": {
      "image/png": "[encoded data removed]",
      "text/plain": [
       "<Figure size 432x288 with 1 Axes>"
      ]
     },
     "metadata": {},
     "output_type": "display_data"
    }
   ],
   "source": [
    "\n",
    "# plot the training loss\n",
    "plt.style.use(\"ggplot\")\n",
    "plt.figure()\n",
    "N = 50\n",
    "plt.plot(np.arange(0, N), net.history[\"loss\"], label=\"train_loss\")\n",
    "plt.plot(np.arange(0, N), net.history[\"val_loss\"], label=\"val_loss\")\n",
    "plt.title(\"Training Loss\")\n",
    "plt.xlabel(\"Epoch #\")\n",
    "plt.ylabel(\"Loss/Accuracy\")\n",
    "plt.legend(loc=\"upper left\")\n",
    "# plot the trainingaccuracy\n",
    "plt.plot(np.arange(0, N), net.history[\"acc\"], label=\"train_acc\")\n",
    "plt.plot(np.arange(0, N), net.history[\"val_acc\"], label=\"val_acc\")\n",
    "plt.title(\"Training Accuracy\")\n",
    "plt.xlabel(\"Epoch #\")\n",
    "plt.ylabel(\"Loss/Accuracy\")\n",
    "plt.legend(loc=\"upper left\");"
   ]
  },
  {
   "cell_type": "code",
   "execution_count": 51,
   "metadata": {},
   "outputs": [
    {
     "data": {
      "text/plain": [
       "[0, 2, 4, 6, 8, 10, 12, 14, 16, 18]"
      ]
     },
     "execution_count": 51,
     "metadata": {},
     "output_type": "execute_result"
    }
   ],
   "source": [
    "[2*i for i in range(10)]"
   ]
  },
  {
   "cell_type": "code",
   "execution_count": null,
   "metadata": {},
   "outputs": [],
   "source": []
  },
  {
   "cell_type": "code",
   "execution_count": 40,
   "metadata": {},
   "outputs": [],
   "source": [
    "test_x = pd.read_csv('input/test_x.csv', index_col=0, header=None)\n",
    "test_d1 = [[np.array(x)] for x in test_x.values]\n",
    "test_d1 = {'map': test_d1}\n",
    "test = pd.DataFrame(data=test_d1)"
   ]
  },
  {
   "cell_type": "code",
   "execution_count": 41,
   "metadata": {},
   "outputs": [],
   "source": [
    "out_map = []\n",
    "out_class = []\n",
    "for index, row in test.iterrows():\n",
    "    out_map += [pd.Series(row).values[0][0]]\n",
    "\n",
    "out_map = np.array(out_map)\n",
    "out_map = out_map.reshape(out_map.shape[0], IMAGE_DIMS[0], IMAGE_DIMS[1], IMAGE_DIMS[2])\n",
    "out_map = np.stack(out_map, 0)"
   ]
  },
  {
   "cell_type": "code",
   "execution_count": 42,
   "metadata": {},
   "outputs": [
    {
     "name": "stdout",
     "output_type": "stream",
     "text": [
      "(4800, 2)\n",
      "Wall time: 2.07 s\n"
     ]
    }
   ],
   "source": [
    "%%time\n",
    "y_test_pred = model.predict(out_map)\n",
    "\n",
    "print(y_test_pred.shape)"
   ]
  },
  {
   "cell_type": "code",
   "execution_count": 43,
   "metadata": {},
   "outputs": [
    {
     "name": "stdout",
     "output_type": "stream",
     "text": [
      "(4800, 2)\n",
      "Wall time: 1.63 s\n"
     ]
    }
   ],
   "source": [
    "%%time\n",
    "y_test_pred = model.predict(out_map)\n",
    "\n",
    "print(y_test_pred.shape)\n",
    "\n",
    "df = np.array([[i, x.argmax()] for i, x in enumerate(y_test_pred)])\n",
    "sample = pd.DataFrame(df, columns=['id', 'target'])\n",
    "\n",
    "mappping_type_inv = {0: 'Bird', 1: 'Airplane'}\n",
    "sample = sample.replace({'target': mappping_type_inv})\n",
    "\n",
    "sample.to_csv('output/submit_12.csv', index=False)"
   ]
  },
  {
   "cell_type": "code",
   "execution_count": 44,
   "metadata": {},
   "outputs": [
    {
     "ename": "NameError",
     "evalue": "name 'sample' is not defined",
     "output_type": "error",
     "traceback": [
      "\u001b[1;31m---------------------------------------------------------------------------\u001b[0m",
      "\u001b[1;31mNameError\u001b[0m                                 Traceback (most recent call last)",
      "\u001b[1;32m<ipython-input-44-44305efb74f0>\u001b[0m in \u001b[0;36m<module>\u001b[1;34m\u001b[0m\n\u001b[1;32m----> 1\u001b[1;33m \u001b[0msample\u001b[0m\u001b[1;33m.\u001b[0m\u001b[0mhead\u001b[0m\u001b[1;33m(\u001b[0m\u001b[1;33m)\u001b[0m\u001b[1;33m\u001b[0m\u001b[1;33m\u001b[0m\u001b[0m\n\u001b[0m",
      "\u001b[1;31mNameError\u001b[0m: name 'sample' is not defined"
     ]
    }
   ],
   "source": [
    "sample.head()"
   ]
  },
  {
   "cell_type": "code",
   "execution_count": 33,
   "metadata": {},
   "outputs": [
    {
     "ename": "NameError",
     "evalue": "name 'sample' is not defined",
     "output_type": "error",
     "traceback": [
      "\u001b[1;31m---------------------------------------------------------------------------\u001b[0m",
      "\u001b[1;31mNameError\u001b[0m                                 Traceback (most recent call last)",
      "\u001b[1;32m<ipython-input-33-c3ea73b844f8>\u001b[0m in \u001b[0;36m<module>\u001b[1;34m\u001b[0m\n\u001b[1;32m----> 1\u001b[1;33m \u001b[0msample\u001b[0m\u001b[1;33m.\u001b[0m\u001b[0mto_csv\u001b[0m\u001b[1;33m(\u001b[0m\u001b[1;34m'output/submit_12.csv'\u001b[0m\u001b[1;33m,\u001b[0m \u001b[0mindex\u001b[0m\u001b[1;33m=\u001b[0m\u001b[1;32mFalse\u001b[0m\u001b[1;33m)\u001b[0m\u001b[1;33m\u001b[0m\u001b[1;33m\u001b[0m\u001b[0m\n\u001b[0m",
      "\u001b[1;31mNameError\u001b[0m: name 'sample' is not defined"
     ]
    }
   ],
   "source": [
    "sample.to_csv('output/submit_12.csv', index=False)"
   ]
  },
  {
   "cell_type": "code",
   "execution_count": null,
   "metadata": {},
   "outputs": [],
   "source": []
  },
  {
   "cell_type": "code",
   "execution_count": null,
   "metadata": {},
   "outputs": [],
   "source": []
  },
  {
   "cell_type": "code",
   "execution_count": null,
   "metadata": {},
   "outputs": [],
   "source": []
  },
  {
   "cell_type": "code",
   "execution_count": null,
   "metadata": {},
   "outputs": [],
   "source": []
  },
  {
   "cell_type": "code",
   "execution_count": null,
   "metadata": {},
   "outputs": [],
   "source": []
  },
  {
   "cell_type": "code",
   "execution_count": null,
   "metadata": {},
   "outputs": [],
   "source": []
  }
 ],
 "metadata": {
  "kernelspec": {
   "display_name": "Python 3",
   "language": "python",
   "name": "python3"
  },
  "language_info": {
   "codemirror_mode": {
    "name": "ipython",
    "version": 3
   },
   "file_extension": ".py",
   "mimetype": "text/x-python",
   "name": "python",
   "nbconvert_exporter": "python",
   "pygments_lexer": "ipython3",
   "version": "3.7.3"
  }
 },
 "nbformat": 4,
 "nbformat_minor": 2
}
